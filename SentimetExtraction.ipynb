{
 "cells": [
  {
   "cell_type": "markdown",
   "metadata": {},
   "source": [
    "Set up HDFS and Google credentials"
   ]
  },
  {
   "cell_type": "code",
   "execution_count": 1,
   "metadata": {
    "scrolled": true
   },
   "outputs": [
    {
     "data": {
      "text/html": [
       "\n",
       "        <div>\n",
       "            <p><b>SparkContext</b></p>\n",
       "\n",
       "            <p><a href=\"http://sp-master:4040\">Spark UI</a></p>\n",
       "\n",
       "            <dl>\n",
       "              <dt>Version</dt>\n",
       "                <dd><code>v2.3.0</code></dd>\n",
       "              <dt>Master</dt>\n",
       "                <dd><code>spark://sp-master:7077</code></dd>\n",
       "              <dt>AppName</dt>\n",
       "                <dd><code>PySparkShell</code></dd>\n",
       "            </dl>\n",
       "        </div>\n",
       "        "
      ],
      "text/plain": [
       "<SparkContext master=spark://sp-master:7077 appName=PySparkShell>"
      ]
     },
     "execution_count": 1,
     "metadata": {},
     "output_type": "execute_result"
    }
   ],
   "source": [
    "sc\n"
   ]
  },
  {
   "cell_type": "code",
   "execution_count": 2,
   "metadata": {},
   "outputs": [],
   "source": [
    "import os\n",
    "\n",
    "os.environ[\"GOOGLE_APPLICATION_CREDENTIALS\"]=\"./imdb-e9e7ce7a779d.json\"\n",
    "os.environ[\"HDFSCLI_CONFIG\"]=\"./.hdfscli.cfg\"\n",
    "os.environ[\"HADOOP_CONF_DIR\"]=\"/opt/hadoop-3.1.0/etc/hadoop\"\n",
    "sc.environment[\"GOOGLE_APPLICATION_CREDENTIALS\"]=\"/MovieScope-1bf4856cc738.json\""
   ]
  },
  {
   "cell_type": "markdown",
   "metadata": {},
   "source": [
    "List filenames of reviews from HDFS and parallelize in preparation from processing"
   ]
  },
  {
   "cell_type": "raw",
   "metadata": {},
   "source": [
    "from hdfs import Config\n",
    "import pandas as pd\n",
    "\n",
    "#9870\n",
    "#from hdfs3 import HDFileSystem\n",
    "#hdfs = HDFileSystem(u\"localhost\", 9000)\n",
    "\n",
    "\n",
    "hdfs_prefix=\"hdfs://localhost:9000/\"\n",
    "reviews_path=\"/user/lmrd/reviews\"\n",
    "\n",
    "    \n",
    "def getReviewFilenames(path):\n",
    "    client = Config().get_client('dev')\n",
    "    files = client.list(path)\n",
    "    \n",
    "    files_df = pd.DataFrame(data={\"fileNames\":files})\n",
    "    \n",
    "    files_df[\"index\"] = files_df[\"fileNames\"].str.extract('(.*)_.*\\..*', expand = True).apply(pd.to_numeric)\n",
    "\n",
    "    files_df = files_df.sort_values(by=\"index\")\n",
    "   # print(files_df)\n",
    "    \n",
    "    return [hdfs_prefix+path+\"/\"+f for f in files_df[\"fileNames\"]]\n",
    "\n",
    "pos_files_rdd = sc.parallelize(getReviewFilenames(reviews_path+\"/pos\"))\n",
    "#pos_files_rdd.collect()"
   ]
  },
  {
   "cell_type": "markdown",
   "metadata": {},
   "source": [
    "Parallelise the reviews and use Google NLP API to extract entities and related sentiment."
   ]
  },
  {
   "cell_type": "code",
   "execution_count": 3,
   "metadata": {},
   "outputs": [],
   "source": [
    "# Imports the Google Cloud client library\n",
    "from google.cloud import language\n",
    "from google.cloud.language import enums\n",
    "from google.cloud.language import types\n",
    "from functools import reduce\n",
    "\n",
    "def collectEntities(x, y):\n",
    "    # The first reduce call doesn't pass a list for x, so we need to check for that.\n",
    "    if not isinstance(x, list):\n",
    "        x=[x]\n",
    "        \n",
    "\n",
    "    xd = dict(x)\n",
    "    #print(xd)\n",
    "    \n",
    "    if not isinstance(y, list):\n",
    "        y = [y]\n",
    "        \n",
    "    for ye in y:\n",
    "        if ye[0] in xd:\n",
    "            try:\n",
    "                xd[ye[0]] = (xd[ye[0]]+ye[1])/2\n",
    "            except:\n",
    "                Null\n",
    "        else:\n",
    "            xd[ye[0]] = ye[1]\n",
    "    \n",
    "    return [o for o in xd.items()]\n",
    "        \n"
   ]
  },
  {
   "cell_type": "raw",
   "metadata": {},
   "source": [
    "import re\n",
    "\n",
    "def extractEntitiesSetiment(fileObj):\n",
    "    # Instantiates a client\n",
    "    client = language.LanguageServiceClient()\n",
    "    \n",
    "    review_contents = fileObj\n",
    "        \n",
    "    #print(review_contents)\n",
    "    \n",
    "    document = types.Document(content = review_contents, \n",
    "                             type=enums.Document.Type.PLAIN_TEXT)\n",
    "    \n",
    "    entities = client.analyze_entity_sentiment(document=document, encoding_type=\"UTF8\")\n",
    "    \n",
    "    # Make sure we have no duplicate entities. If we do, average their sentiment.\n",
    "    justLetters = re.compile(\"[^a-z ]\")\n",
    "    response = [o for o in zip([justLetters.sub(\"\", entity.name.lower()) for entity in entities.entities], [entity.sentiment.score * entity.sentiment.magnitude for entity in entities.entities])]\n",
    "    response = sorted(response, key=lambda x: x[0])\n",
    "    response = reduce(collectEntities, response)\n",
    "    \n",
    "    return response\n",
    "\n",
    "\n",
    "\n",
    "file_objs = map(lambda f: ' '.join(list(sc.hadoopFile(f, \"org.apache.hadoop.mapred.TextInputFormat\", \n",
    "                                              \"org.apache.hadoop.io.Text\", \n",
    "                                              \"org.apache.hadoop.io.Text\").values().collect())), pos_files_rdd.collect())\n",
    "\n",
    "#file_objs = sc.parallelize(file_objs)\n",
    "#entity_documents_info = file_objs.map(extractEntitiesSetiment)\n",
    "\n",
    "\n",
    "#entity_documents_info.cache()\n",
    "#print(entity_documents_info.take(1))\n",
    "#print(entity_documents_info.count())"
   ]
  },
  {
   "cell_type": "code",
   "execution_count": 41,
   "metadata": {},
   "outputs": [],
   "source": [
    "orientation = \"neg\"\n",
    "collection=\"reviews\"\n",
    "urlsCollection=\"train\""
   ]
  },
  {
   "cell_type": "code",
   "execution_count": 5,
   "metadata": {},
   "outputs": [],
   "source": [
    "tf = sc.wholeTextFiles(\"hdfs://sp-master:8020/user/lmrd/\"+collection+\"/\"+orientation)\n",
    "tf = tf.repartition(5)"
   ]
  },
  {
   "cell_type": "code",
   "execution_count": 6,
   "metadata": {},
   "outputs": [
    {
     "data": {
      "text/plain": [
       "[('hdfs://sp-master:8020/user/lmrd/test_reviews/neg/10036_1.txt',\n",
       "  \"Are you kidding me? This is quite possibly the worst, amateur movie I've ever seen. The casting was horrible, the acting was worse than horrible and I'm sorry, the guy at the picnic speed loading his plate full of food was somewhere near pointless and the demonic turd and chamber pot chasing Drew around was nothing more than comical. When I herd about the Bell Witch, I wanted to believe. I read some literature on it and thought it sounded like it was possible a plausible story. But this movie just destroyed that. Ric White (Director, Writer, Lead Actor, etc) takes himself a bit too seriously and I think he gives himself a little more credit than he deserves....Do yourself a favor....skip this one.\"),\n",
       " ('hdfs://sp-master:8020/user/lmrd/test_reviews/neg/10037_1.txt',\n",
       "  'In addition to the fact that this is just an abysmally made film (imagine giving a camcorder to the average high school drama club) the people who think that there is anything \"real\" about this legend need to grow up. This is the 21st century. Guess what: ghosts don\\'t exist. Most people learn that from their mother when they\\'re about 5 years old. You guys seriously need to grow up.<br /><br />The fact that a fraud was perpetrated nearly 2 centuries ago does not make it any less a fraud. The fact that a large number of inbred hillbillies from Tennessee believe it doesn\\'t do it either. Go to college. Or at least finish high school.'),\n",
       " ('hdfs://sp-master:8020/user/lmrd/test_reviews/neg/10038_4.txt',\n",
       "  'I wanted to like this movie. I really, really did. I was so excited when I saw the preview, which scared the hell out of me. But when I saw the actual film, I was disappointed. The acting is stilted, and the attempts at comedy are woefully out of place and forced. And I\\'m sorry, but a boy being chased by a turd in a bedpan is not funny or scary, it\\'s just stupid. I grew up on the Bell Witch legend, so I know quite a bit about it. A lot of facts in the movie are right on target, but this film should have been much better. The entire birthday party scene, for example, lasts about fifteen minutes, adds nothing to the plot or the story, and should have been left on the cutting room floor. A more heavy-handed editor might have been able to get a decent film out of this mess.<br /><br />Please understand, I\\'m not in any way, shape or form involved with the other Bell Witch movie, and I\\'m not trying to \"attack\" this IMDb listing. I\\'m just telling it like it is.'),\n",
       " ('hdfs://sp-master:8020/user/lmrd/test_reviews/neg/10039_1.txt',\n",
       "  'I am not understanding why people are praising this movie. I didn\\'t like it at all. I watch it with several people. None of them cared for it either. First of all. It is just plain that another low budget studio is trying to cash in on a big name story. The actual filming looks like a live TV interview. The makeup is bad. When you watch the movie along with the DVD extras. You will see there is a lot of enthusiasm from the people who participated in it. There is no talent. There are facts that do appear in the book. The facts are distorted by the invention of comedy and skits added to it. I have read several books and have watched several shows on this story. What I have always caught from all the material on this is that it was a serious horror story. I really wish someone could really do a good film on this one. It has always fascinated me. The bad acting really ruined the story. The little boys situation really hammed it up even more. When you watch this movie. The little boy and his problem is the thing you and your friends will remember and laugh about. It didn\\'t make any sense why his brothers were laughing at what had happened to him. It was like the witch was supposed to be so threatening but it was OK to throw baby brother to her. It is a whopping tale with him and his little problem. I can\\'t still get over the little girl saying \"Mom said tobacco will rot your teeth.\" Frank Fox\\'s statement and facial expression is so bad. The scene out in the yard with him getting food is pretty stupid to. The sound from parts of it seems to be from the movie psycho. Also, The girl hovering over the bed and her little \"Bladder control problem\" are from The Exorcist. This movie is lacking from the talent of creativity. We put the movie in for a couple of minutes and knew right away it was a bummer. I also noticed that their was defects in the film quality. Parts of it looked like what a person might film on a Home video camera. I noticed a lot of the people in the credits had many multiple jobs. This is probably how this movie was put together. Someone said I like this story. I will get all my friends and make a movie about with a video camera and a computer. Doesn\\'t matter if we don\\'t know how to act. As long as we get it on film and say it is good. We got the family together and prepared food. Then sat down and watched this failed attempt to make a movie.'),\n",
       " ('hdfs://sp-master:8020/user/lmrd/test_reviews/neg/1003_4.txt',\n",
       "  'This tale of the upper-classes getting their come-uppance and wallowing in their high-class misery is like a contemporary Mid-Sommerish version of an old Joan Crawford movie in which she suffered in mink. Here, people behave in a frightfully civilized manner in the face of adversity. A well-heeled London solicitor, (Tom Wilkinson), discovers that not only is his wife having an affair with the local gentry but that she has also killed their housekeeper\\'s husband in a hit-and-run accident. He throws up, but otherwise his stiff-upper-lip hardly quavers.<br /><br />Written and directed by Julian Fellowes, who won an Oscar for writing \"Gosford Park\", (this is his directorial debut), from a novel by Nigel Balchin, it\\'s quite comical although I am not sure how much of the comedy is intended. It\\'s like a throw-back to British films of the forties where characters all behaved like characters in books or plays rather than like people might in real life. However, it\\'s not all bad. Wilkinson is terrific, even if you never believe in him as a person while Emily Watson, (the adulterous wife), and Rupert Everett, (the highly amoral high-class totty), are both very good at covering the cracks in the material. Tony Pierce-Roberts\\' cinematography ensures that no matter how hard it is on the ear it\\'s always good on the eye.')]"
      ]
     },
     "execution_count": 6,
     "metadata": {},
     "output_type": "execute_result"
    }
   ],
   "source": [
    "tf.take(5)"
   ]
  },
  {
   "cell_type": "code",
   "execution_count": 7,
   "metadata": {},
   "outputs": [],
   "source": [
    "import re\n",
    "import time\n",
    "\n",
    "from pyspark.sql.types import *\n",
    "\n",
    "def checkSentimentValue(x):\n",
    "    try:\n",
    "        f = float(x)\n",
    "        \n",
    "        return f\n",
    "    \n",
    "    except:\n",
    "        print(\"Wrong sentiment value \", f)\n",
    "        return 0\n",
    "    \n",
    "def extractEntitiesSetiment2(fileObj):\n",
    "    # Instantiates a client\n",
    "    client = language.LanguageServiceClient()\n",
    "    \n",
    "    review_contents = fileObj[1]\n",
    "        \n",
    "    #print(review_contents)\n",
    "    document = types.Document(content = review_contents, \n",
    "                             type=enums.Document.Type.PLAIN_TEXT, language=\"en-US\")\n",
    "    \n",
    "    tries=1\n",
    "    \n",
    "    while tries < 5:\n",
    "        try:\n",
    "            entities = client.analyze_entity_sentiment(document=document, encoding_type=\"UTF8\")\n",
    "            break\n",
    "        except:\n",
    "            f = open(\"/home/etienne/sparklog.txt\", mode=\"a\")\n",
    "            f.write(\"\"+str(fileObj[0])+\"\\n\")\n",
    "            f.write(\"\"+str(entities)+\"\\n\")\n",
    "            f.close()\n",
    "            time.sleep(1)\n",
    "            \n",
    "            tries +=1\n",
    "    \n",
    "    \n",
    "    # Make sure we have no duplicate entities. If we do, average their sentiment.\n",
    "    justLetters = re.compile(\"[^a-z ]\")\n",
    "    response = [o for o in zip([justLetters.sub(\"\", entity.name.lower()) for entity in entities.entities], \n",
    "                               [checkSentimentValue(entity.sentiment.score) * checkSentimentValue(entity.sentiment.magnitude) \n",
    "                                    for entity in entities.entities])]\n",
    "    \n",
    "    response = sorted(response, key=lambda x: x[0])\n",
    "    if (len(response)>1):\n",
    "        response = reduce(collectEntities, response)\n",
    "    \n",
    "        \n",
    "    #print(fileObj[0], response)\n",
    "    try:\n",
    "        fid = int(fileObj[0])\n",
    "    except:\n",
    "        fid=0\n",
    "    \n",
    "    return (fid, response)\n",
    "\n",
    "def extractOrdering(rec):\n",
    "    filenameRegexp = \".*/([0-9]*)_.*\\.txt$\"\n",
    "    r = re.search(filenameRegexp, rec[0])\n",
    "\n",
    "    return (int(r.groups()[0])+1, rec[1])\n",
    "    #hdfs://localhost:9000/user/lmrd/reviews/pos/3467_7.txt\n",
    "\n",
    "\n",
    "#sc.broadcast(filenameRegexp)\n",
    "filesRdd = tf.map(extractOrdering)\n",
    "filesRdd = filesRdd.repartition(5)\n",
    "\n",
    "schema1 = StructType([\n",
    "    StructField(\"ID\", IntegerType(), False),\n",
    "    StructField(\"ENTITY_SENTIMENT\", ArrayType(\n",
    "            StructType([StructField(\"ENTITY\", StringType(), False), \n",
    "                        StructField(\"SENTIMENT\", FloatType(), False)])), nullable=True)])\n",
    "\n",
    "\n",
    "entity_documents_info = filesRdd.map(extractEntitiesSetiment2)\n",
    "\n",
    "entity_documents_info.cache()\n",
    "#entity_documents_info.saveAsTextFile(\"hdfs://sp-master:8020/user/lmrd/reviews/temp_pos3.txt\")\n",
    "\n",
    "\n",
    "entity_documents_info = spark.createDataFrame(filesRdd.map(extractEntitiesSetiment2), schema1)#schema=[\"ID\", \"ENTITIY_SENTIMENT\"])\n",
    "#entity_documents_info = entity_documents_info.rdd.repartition(5)"
   ]
  },
  {
   "cell_type": "code",
   "execution_count": 8,
   "metadata": {},
   "outputs": [
    {
     "data": {
      "text/plain": [
       "5"
      ]
     },
     "execution_count": 8,
     "metadata": {},
     "output_type": "execute_result"
    }
   ],
   "source": [
    "entity_documents_info.rdd.getNumPartitions()"
   ]
  },
  {
   "cell_type": "code",
   "execution_count": 9,
   "metadata": {},
   "outputs": [],
   "source": [
    "#entity_documents_info = spark.createDataFrame(filesRdd.map(extractEntitiesSetiment2), schema=[\"ID\", \"ENTITIY_SENTIMENT\"])\n",
    "\n",
    "entity_documents_info.write.parquet(\"hdfs://spark-master:8020/user/lmrd/\"+collection+\"/\"+orientation+\"_doc_info.pq\", mode=\"overwrite\")"
   ]
  },
  {
   "cell_type": "code",
   "execution_count": 42,
   "metadata": {},
   "outputs": [
    {
     "name": "stdout",
     "output_type": "stream",
     "text": [
      "+-----+--------------------+\n",
      "|   ID|    ENTITY_SENTIMENT|\n",
      "+-----+--------------------+\n",
      "|10127|[[adventure, 0.48...|\n",
      "|10128|[[back garden, -0...|\n",
      "|10129|[[acting, -0.09],...|\n",
      "|10130|[[acting, -0.9799...|\n",
      "| 1013|[[actors, 0.0], [...|\n",
      "+-----+--------------------+\n",
      "only showing top 5 rows\n",
      "\n"
     ]
    }
   ],
   "source": [
    "# Make sure we don't trigger Google Cloud API again\n",
    "entity_documents_info = spark.read.parquet(\"hdfs://spark-master:8020/user/lmrd/\"+collection+\"/\"+orientation+\"_doc_info.pq\")\n",
    "entity_documents_info.show(5)"
   ]
  },
  {
   "cell_type": "markdown",
   "metadata": {},
   "source": [
    "Load genre information from file (previously collected using IMDB API)"
   ]
  },
  {
   "cell_type": "code",
   "execution_count": 43,
   "metadata": {},
   "outputs": [
    {
     "name": "stdout",
     "output_type": "stream",
     "text": [
      "+-------+--------------------+---+\n",
      "|FILM_ID|               GENRE| ID|\n",
      "+-------+--------------------+---+\n",
      "|  64354|            [Comedy]|  1|\n",
      "| 100680|    [Drama, Romance]|  2|\n",
      "| 100680|    [Drama, Romance]|  3|\n",
      "| 100680|    [Drama, Romance]|  4|\n",
      "|  47200|[Horror, Mystery,...|  5|\n",
      "+-------+--------------------+---+\n",
      "only showing top 5 rows\n",
      "\n"
     ]
    }
   ],
   "source": [
    "import pickle\n",
    "import pandas as pd\n",
    "import base64\n",
    "from functools import reduce\n",
    "import pyspark.sql.functions as F\n",
    "from pyspark.sql.window import Window as W\n",
    "\n",
    "def decodeGenre(x):\n",
    "    try: \n",
    "        g = pickle.loads(base64.b64decode(x[2:-1]), encoding=\"bytes\") \n",
    "        if (len(g)==0):\n",
    "            return [\"NA\"]\n",
    "        else:\n",
    "            return g\n",
    "    except:\n",
    "        return [\"NA\"]    \n",
    "        \n",
    "        \n",
    "genres = pd.read_csv(\"Data/genres_\"+urlsCollection+\"_urls_\"+orientation+\".csv\", sep=\"\\t\", index_col=0, usecols=[1, 2, 3])\n",
    "#print(genres.head())\n",
    "genres = genres.fillna(value=\"b''\")\n",
    "genres[\"GENRE\"] = genres[\"GENRE\"].apply(decodeGenre) \n",
    "\n",
    "# Get list of unique genre values\n",
    "#unique_genres = set(reduce(lambda x, y: x+y, genres[\"GENRE\"].values))\n",
    "#print(unique_genres)\n",
    "\n",
    "#print(genres.head())\n",
    "#print(genres[[\"ID\", \"GENRE\"]])\n",
    "#z = zip(genres[\"ID\"], genres[\"GENRE\"])\n",
    "\n",
    "\n",
    "#genres_rdd = sc.parallelize([(int(k)-1, v[0], v[1]) for (k, v) in genres.iteritems()])\n",
    "\n",
    "schema = StructType([\n",
    "    StructField(\"FILM_ID\", IntegerType(), True),\n",
    "    StructField(\"GENRE\", ArrayType(StringType(), containsNull=True), True)])\n",
    "\n",
    "genres_df = spark.createDataFrame(genres, schema)\n",
    "\n",
    "from pyspark.sql.functions import monotonically_increasing_id\n",
    "\n",
    "# This will return a new DF with all the columns + id\n",
    "genres_df = genres_df.withColumn(\"ID_TEMP\", monotonically_increasing_id())#.limit(10)\n",
    "\n",
    "genres_df = genres_df.withColumn(\"ID\",F.row_number().over(W.orderBy(\"ID_TEMP\"))).select([\"FILM_ID\", \"GENRE\", \"ID\"])#.limit(10)\n",
    "\n",
    "#df1.withColumn(\"idx\", F.row_number())\n",
    "genres_df.show(5)\n",
    "#genres_rdd.collect()"
   ]
  },
  {
   "cell_type": "code",
   "execution_count": 44,
   "metadata": {},
   "outputs": [
    {
     "name": "stdout",
     "output_type": "stream",
     "text": [
      "+---+--------------------+-------+--------------------+---+\n",
      "| ID|    ENTITY_SENTIMENT|FILM_ID|               GENRE| ID|\n",
      "+---+--------------------+-------+--------------------+---+\n",
      "|  1|[[chantings, -0.0...|  64354|            [Comedy]|  1|\n",
      "|  2|[[book, 0.0], [ca...| 100680|    [Drama, Romance]|  2|\n",
      "|  3|[[acting, 0.48999...| 100680|    [Drama, Romance]|  3|\n",
      "|  4|[[adaptation, -0....| 100680|    [Drama, Romance]|  4|\n",
      "|  5|[[another, 0.0100...|  47200|[Horror, Mystery,...|  5|\n",
      "+---+--------------------+-------+--------------------+---+\n",
      "only showing top 5 rows\n",
      "\n"
     ]
    }
   ],
   "source": [
    "entity_documents_info = entity_documents_info.alias(\"df1\").join(genres_df.alias(\"df2\"), entity_documents_info.ID == genres_df.ID)#.select([\"df1.*\", \"df2.FILM_ID\", \"df2.GENRE\"])\n",
    "\n",
    "entity_documents_info.show(5)"
   ]
  },
  {
   "cell_type": "markdown",
   "metadata": {},
   "source": [
    "Zip the document-entity-sentiment rdd with the genre rdd.\n",
    "There should be exactly the same number of reviews as records in the genres rdd."
   ]
  },
  {
   "cell_type": "raw",
   "metadata": {},
   "source": [
    "entity_documents_info = entity_documents_info.zip(genres_rdd)\n",
    "\n",
    "#entity_documents_info.collect()"
   ]
  },
  {
   "cell_type": "markdown",
   "metadata": {},
   "source": [
    "Group documents by genre"
   ]
  },
  {
   "cell_type": "code",
   "execution_count": 45,
   "metadata": {},
   "outputs": [
    {
     "data": {
      "text/plain": [
       "DataFrame[genre: string, entity: string, sentiment: double]"
      ]
     },
     "execution_count": 45,
     "metadata": {},
     "output_type": "execute_result"
    }
   ],
   "source": [
    "def separateGenres(rec):\n",
    "    print(len(rec))\n",
    "    return [[genre, rec[0]] for genre in rec[1][1]]\n",
    "\n",
    "def separateGenres2(rec):\n",
    "    return [[genre, e, s] for (e, s) in rec[0] for genre in rec[1][1]]\n",
    "\n",
    "def separateGenres3(rec):\n",
    "    print(rec)\n",
    "    return [[genre, e, s] for (e, s) in rec.ENTITY_SENTIMENT for genre in rec.GENRE]\n",
    "    \n",
    "#grouped_entities = entity_documents_info.flatMap(separateGenres).reduceByKey(collectEntities)\n",
    "grouped_entities = entity_documents_info.rdd.flatMap(separateGenres3)\n",
    "grouped_entities.repartition(5)\n",
    "grouped_entities_df = spark.createDataFrame(data=grouped_entities, schema=[\"genre\", \"entity\", \"sentiment\"])\n",
    "#grouped_entities_df.show()\n",
    "grouped_entities_df.cache()\n",
    "\n"
   ]
  },
  {
   "cell_type": "code",
   "execution_count": 46,
   "metadata": {},
   "outputs": [],
   "source": [
    "#grouped_entities_df.show(5)\n",
    "grouped_entities_df.write.parquet(\"hdfs://spark-master:8020/user/lmrd/\"+urlsCollection+\"_\"+orientation+\"_grouped_entities.pq\", mode=\"overwrite\")"
   ]
  },
  {
   "cell_type": "code",
   "execution_count": 16,
   "metadata": {},
   "outputs": [],
   "source": [
    "from pyspark.sql import Row\n",
    "from pyspark.sql.functions import collect_list\n",
    "\n",
    "grouped_entities_df = spark.read.parquet(\"hdfs://spark-master:8020/user/lmrd/\"+urlsCollection+\"_\"+orientation+\"_grouped_entities.pq\")\n",
    "\n",
    "grouped_entity_words = grouped_entities_df.select([\"genre\", \"entity\"]).groupBy(\"genre\").agg(collect_list(\"entity\").alias(\"entities\"))\n",
    "grouped_sentiment = grouped_entities_df.select([\"genre\", \"sentiment\"]).groupBy(\"genre\").agg(collect_list(\"sentiment\").alias(\"sentiment\"))\n",
    "#grouped_entity_words.show()\n",
    "#grouped_sentiment.show()"
   ]
  },
  {
   "cell_type": "code",
   "execution_count": 17,
   "metadata": {},
   "outputs": [
    {
     "name": "stdout",
     "output_type": "stream",
     "text": [
      "+-----------+--------------------+\n",
      "|      genre|           sentiment|\n",
      "+-----------+--------------------+\n",
      "|      Crime|[0.0, 0.010000000...|\n",
      "|    Romance|[0.0, 0.0, 0.8099...|\n",
      "|   Thriller|[-0.0100000007078...|\n",
      "|  Adventure|[-0.0400000028312...|\n",
      "|         NA|[0.0, 0.0, -0.489...|\n",
      "|      Drama|[-0.0400000028312...|\n",
      "|        War|[0.0, 0.0, 0.8099...|\n",
      "|Documentary|[0.0, 0.0, 0.0, 0...|\n",
      "| Reality-TV|[0.0, 0.0, 0.0, 0...|\n",
      "|     Family|[0.0, 0.0, -0.040...|\n",
      "|    Fantasy|[0.01000000070780...|\n",
      "|  Game-Show|[0.0, 0.0, 0.0, 0...|\n",
      "|      Adult|[-0.25, -0.25, -0...|\n",
      "|    History|[0.0, 0.0, 0.0, 0...|\n",
      "|    Mystery|[-0.0400000028312...|\n",
      "|    Musical|[0.0, 0.0, 0.8099...|\n",
      "|  Animation|[0.0, 0.0, -0.040...|\n",
      "|      Music|[0.0, -0.04000000...|\n",
      "|  Film-Noir|[0.0, 0.0, 0.0, 0...|\n",
      "|      Short|[0.0, 0.0, -0.040...|\n",
      "+-----------+--------------------+\n",
      "only showing top 20 rows\n",
      "\n"
     ]
    }
   ],
   "source": [
    "grouped_sentiment.show()"
   ]
  },
  {
   "cell_type": "code",
   "execution_count": 48,
   "metadata": {},
   "outputs": [
    {
     "name": "stdout",
     "output_type": "stream",
     "text": [
      "+-----------+--------------------+--------------------+\n",
      "|      genre|            entities|                  tf|\n",
      "+-----------+--------------------+--------------------+\n",
      "|      Crime|[all, anger, best...|(74427,[0,1,2,3,4...|\n",
      "|    Romance|[book, caricature...|(74427,[0,1,2,3,4...|\n",
      "|   Thriller|[another, cast, e...|(74427,[0,1,2,3,4...|\n",
      "|  Adventure|[action, artists,...|(74427,[0,1,2,3,4...|\n",
      "|         NA|[any, attachment,...|(74427,[0,1,2,3,4...|\n",
      "|      Drama|[book, caricature...|(74427,[0,1,2,3,4...|\n",
      "|        War|[actors, addition...|(74427,[0,1,2,3,4...|\n",
      "|Documentary|[absurd, action, ...|(74427,[0,1,2,3,4...|\n",
      "| Reality-TV|[all, ass, compan...|(74427,[2,3,4,6,7...|\n",
      "|     Family|[action, artists,...|(74427,[0,1,2,3,4...|\n",
      "|    Fantasy|[anything, barrag...|(74427,[0,1,2,3,4...|\n",
      "|  Game-Show|[all, ass, compan...|(74427,[2,3,6,7,1...|\n",
      "|      Adult|[adult movies, be...|(74427,[0,1,2,3,4...|\n",
      "|    History|[aaron sherritt, ...|(74427,[0,1,2,3,4...|\n",
      "|    Mystery|[another, cast, e...|(74427,[0,1,2,3,4...|\n",
      "|    Musical|[acting, all, aud...|(74427,[0,1,2,3,4...|\n",
      "|  Animation|[betty, bore, car...|(74427,[0,1,2,3,4...|\n",
      "|      Music|[barrel, boredom,...|(74427,[0,1,2,3,4...|\n",
      "|  Film-Noir|[actors, bogart, ...|(74427,[0,1,2,3,4...|\n",
      "|     Horror|[another, cast, e...|(74427,[0,1,2,3,4...|\n",
      "+-----------+--------------------+--------------------+\n",
      "only showing top 20 rows\n",
      "\n",
      "+-----------+--------------------+--------------------+--------------------+\n",
      "|      genre|            entities|                  tf|               tfidf|\n",
      "+-----------+--------------------+--------------------+--------------------+\n",
      "|      Crime|[all, anger, best...|(74427,[0,1,2,3,4...|(74427,[0,1,2,3,4...|\n",
      "|    Romance|[book, caricature...|(74427,[0,1,2,3,4...|(74427,[0,1,2,3,4...|\n",
      "|   Thriller|[another, cast, e...|(74427,[0,1,2,3,4...|(74427,[0,1,2,3,4...|\n",
      "|  Adventure|[action, artists,...|(74427,[0,1,2,3,4...|(74427,[0,1,2,3,4...|\n",
      "|         NA|[any, attachment,...|(74427,[0,1,2,3,4...|(74427,[0,1,2,3,4...|\n",
      "|      Drama|[book, caricature...|(74427,[0,1,2,3,4...|(74427,[0,1,2,3,4...|\n",
      "|        War|[actors, addition...|(74427,[0,1,2,3,4...|(74427,[0,1,2,3,4...|\n",
      "|Documentary|[absurd, action, ...|(74427,[0,1,2,3,4...|(74427,[0,1,2,3,4...|\n",
      "| Reality-TV|[all, ass, compan...|(74427,[2,3,4,6,7...|(74427,[2,3,4,6,7...|\n",
      "|     Family|[action, artists,...|(74427,[0,1,2,3,4...|(74427,[0,1,2,3,4...|\n",
      "|    Fantasy|[anything, barrag...|(74427,[0,1,2,3,4...|(74427,[0,1,2,3,4...|\n",
      "|  Game-Show|[all, ass, compan...|(74427,[2,3,6,7,1...|(74427,[2,3,6,7,1...|\n",
      "|      Adult|[adult movies, be...|(74427,[0,1,2,3,4...|(74427,[0,1,2,3,4...|\n",
      "|    History|[aaron sherritt, ...|(74427,[0,1,2,3,4...|(74427,[0,1,2,3,4...|\n",
      "|    Mystery|[another, cast, e...|(74427,[0,1,2,3,4...|(74427,[0,1,2,3,4...|\n",
      "|    Musical|[acting, all, aud...|(74427,[0,1,2,3,4...|(74427,[0,1,2,3,4...|\n",
      "|  Animation|[betty, bore, car...|(74427,[0,1,2,3,4...|(74427,[0,1,2,3,4...|\n",
      "|      Music|[barrel, boredom,...|(74427,[0,1,2,3,4...|(74427,[0,1,2,3,4...|\n",
      "|  Film-Noir|[actors, bogart, ...|(74427,[0,1,2,3,4...|(74427,[0,1,2,3,4...|\n",
      "|     Horror|[another, cast, e...|(74427,[0,1,2,3,4...|(74427,[0,1,2,3,4...|\n",
      "+-----------+--------------------+--------------------+--------------------+\n",
      "only showing top 20 rows\n",
      "\n"
     ]
    }
   ],
   "source": [
    "from pyspark.ml.feature import CountVectorizer, IDF\n",
    "\n",
    "# remove sentiment info for use by hashingTF/tfif\n",
    "\n",
    "# Load documents (one per line).\n",
    "\n",
    "countVec = CountVectorizer(inputCol=\"entities\", outputCol=\"tf\")\n",
    "cvmodel = countVec.fit(grouped_entity_words)\n",
    "\n",
    "tf = cvmodel.transform(grouped_entity_words)\n",
    "tf.show()\n",
    "#sc.broadcast(hashingTF)\n",
    "\n",
    "# While applying HashingTF only needs a single pass to the data, applying IDF needs two passes:\n",
    "# First to compute the IDF vector and second to scale the term frequencies by IDF.\n",
    "tf.cache()\n",
    "idf = IDF(inputCol=\"tf\", outputCol=\"tfidf\").fit(tf)\n",
    "tfidf = idf.transform(tf)\n",
    "tfidf.show()\n",
    "# spark.mllib's IDF implementation provides an option for ignoring terms\n",
    "# which occur in less than a minimum number of documents.\n",
    "# In such cases, the IDF for these terms is set to 0.\n",
    "# This feature can be used by passing the minDocFreq value to the IDF constructor.\n",
    "# idfIgnore = IDF(minDocFreq=2).fit(tf)\n",
    "# tfidfIgnore = idfIgnore.transform(tf)"
   ]
  },
  {
   "cell_type": "code",
   "execution_count": 49,
   "metadata": {},
   "outputs": [],
   "source": [
    "from pyspark.sql import Row\n",
    "from pyspark.sql.functions import explode\n",
    "import numpy as np\n",
    "\n",
    "vocab = tfidf.select([\"genre\", \"tfidf\"])\n",
    "genreVocabs = dict()\n",
    "\n",
    "for genre in vocab.collect():\n",
    "    genreName = genre.genre\n",
    "    \n",
    "    t=genre.tfidf\n",
    "    genreVocabs[genreName] = t\n",
    "    \n",
    "globalVocab = list(cvmodel.vocabulary)\n",
    "    \n",
    "sc.broadcast(globalVocab)\n",
    "sc.broadcast(genreVocabs)\n",
    "\n",
    "def remapEntitiesByTfidf(row):\n",
    "    tfidfMappings = genreVocabs[row.genre]\n",
    "    tfIndex = globalVocab.index(row.entity)\n",
    "    tfidf = tfidfMappings[tfIndex]\n",
    "    \n",
    "    return Row(genre=row.genre, entity=row.entity, tfidf=float(tfidf), vocabIndex=int(tfIndex))\n",
    "    \n",
    "genreCorpora=dict()\n",
    "\n",
    "for genre in genreVocabs.keys():\n",
    "    genreEntities = tfidf.where(tfidf.genre==genre).select(\"genre\", explode(\"entities\").alias(\"entity\"))\n",
    "    \n",
    "    #genreEntities.show()\n",
    "    \n",
    "    #data = genreEntities.rdd.map(remapEntitiesByTfidf)\n",
    "\n",
    "    entitiesByTfidf = spark.createDataFrame(data=genreEntities.rdd.map(remapEntitiesByTfidf), schema=[\"entity\", \"genre\", \"tfidf\", \"vocabIndex\"])\n",
    "    #entitiesByTfidf.show()\n",
    "    entitiesByTfidf = entitiesByTfidf.join(grouped_entities_df, on=[\"genre\", \"entity\"], how=\"inner\" ).groupBy([\"genre\", \"entity\", \"tfidf\", \"vocabIndex\"]).avg(\"sentiment\").sort(\"tfidf\", ascending=False)\n",
    "    \n",
    "    genreCorpora[genre] = entitiesByTfidf\n",
    "    \n"
   ]
  },
  {
   "cell_type": "code",
   "execution_count": 50,
   "metadata": {},
   "outputs": [
    {
     "name": "stdout",
     "output_type": "stream",
     "text": [
      "Crime\n",
      "Romance\n",
      "Thriller\n",
      "Adventure\n",
      "NA\n",
      "Drama\n",
      "War\n",
      "Documentary\n",
      "Reality-TV\n",
      "Family\n",
      "Fantasy\n",
      "Game-Show\n",
      "Adult\n",
      "History\n",
      "Mystery\n",
      "Musical\n",
      "Animation\n",
      "Music\n",
      "Film-Noir\n",
      "Horror\n",
      "Short\n",
      "Western\n",
      "Biography\n",
      "Comedy\n",
      "Action\n",
      "Sport\n",
      "Talk-Show\n",
      "Sci-Fi\n",
      "News\n"
     ]
    }
   ],
   "source": [
    "from pyspark.sql.functions import *\n",
    "\n",
    "for (genreName, corpus) in genreCorpora.items():\n",
    "    print(genreName)\n",
    "    df = corpus.select(col(\"genre\"), col(\"entity\"), col(\"tfidf\"), col(\"vocabIndex\"), col(\"avg(sentiment)\").alias(\"sentiment\"))\n",
    "\n",
    "    df.write.parquet(\"hdfs://spark-master:8020/user/lmrd/\"+genreName+\"_\"+orientation+\"_tfidf.pq\", mode=\"overwrite\")"
   ]
  },
  {
   "cell_type": "code",
   "execution_count": 3,
   "metadata": {},
   "outputs": [],
   "source": [
    "crime_df = spark.read.parquet(\"hdfs://spark-master:8020/user/lmrd/Crime_pos_tfidf.pq\")"
   ]
  },
  {
   "cell_type": "code",
   "execution_count": 4,
   "metadata": {},
   "outputs": [
    {
     "name": "stdout",
     "output_type": "stream",
     "text": [
      "+-----+---------------+-----------------+----------+--------------------+\n",
      "|genre|         entity|            tfidf|vocabIndex|           sentiment|\n",
      "+-----+---------------+-----------------+----------+--------------------+\n",
      "|Crime|bullfight scene|1.791759469228055|     27869|-0.09000000357627869|\n",
      "|Crime|     dan kolton|1.791759469228055|     29876|                 0.0|\n",
      "|Crime|     family dog|1.791759469228055|     26937|-0.04000000283122063|\n",
      "|Crime|    go hk films|1.791759469228055|     36170|                 0.0|\n",
      "|Crime| grandpa walton|1.791759469228055|     31916|                 0.0|\n",
      "+-----+---------------+-----------------+----------+--------------------+\n",
      "only showing top 5 rows\n",
      "\n"
     ]
    }
   ],
   "source": [
    "crime_df.show(5)"
   ]
  },
  {
   "cell_type": "code",
   "execution_count": 5,
   "metadata": {},
   "outputs": [],
   "source": [
    "crime_df.write.format(\"com.mongodb.spark.sql.DefaultSource\").mode(\"append\").save()"
   ]
  },
  {
   "cell_type": "code",
   "execution_count": 8,
   "metadata": {
    "scrolled": false
   },
   "outputs": [
    {
     "name": "stdout",
     "output_type": "stream",
     "text": [
      "+-----+--------------------+------------------+----------+--------------------+\n",
      "|genre|              entity|             tfidf|vocabIndex|           sentiment|\n",
      "+-----+--------------------+------------------+----------+--------------------+\n",
      "|Crime|                film|155.26441535013046|         1|0.029679202453845893|\n",
      "|Crime|               movie|114.10543845742593|         0| 0.07445113833786685|\n",
      "|Crime|     richard widmark|62.577351002094204|      1134|-0.00279069650744976|\n",
      "|Crime|                plot| 60.34843529879897|        14|-0.00158043935778...|\n",
      "|Crime|               story| 60.16085444061885|         3| 0.03526734755270105|\n",
      "|Crime|                role|54.149502367804516|        26| 0.04536823003089545|\n",
      "|Crime|        dana andrews| 50.37257551355662|      2154| -0.3444000040739775|\n",
      "|Crime|         jean peters| 50.37257551355662|      2228| 0.04440000131726265|\n",
      "|Crime|       thelma ritter| 50.37257551355662|      2241| 0.05919999949634075|\n",
      "|Crime|         dirty harry| 46.67369946058891|      1894| -0.4006896649390973|\n",
      "|Crime|          characters| 44.98894018589185|         6|0.026154858302145072|\n",
      "|Crime|        sidney lumet| 43.65861697820526|      1698|-0.00166666638106...|\n",
      "|Crime|        gene tierney| 43.00222726147332|      2296|0.027499996513749164|\n",
      "|Crime|   donald sutherland| 41.74726696938817|      1104|-0.06631579286860008|\n",
      "|Crime|        tony soprano| 41.44653167389283|      4481| -0.3388888989575207|\n",
      "|Crime|        robert blake|40.748042512991574|      1583|0.011785715219697781|\n",
      "|Crime|           character| 40.45843801260532|        11|-0.04159830800669321|\n",
      "|Crime|        performances|39.016813153906284|        38|  0.3510280272914706|\n",
      "|Crime|              hitman| 38.33091935948727|      1563|-0.08403017391964536|\n",
      "|Crime|      william h macy| 38.33091935948727|      1413|0.026551725696130044|\n",
      "|Crime|              movies| 38.03514615247531|         8| 0.06547264220390386|\n",
      "|Crime|          nancy drew| 37.83746804777789|      1115|0.018846148983217202|\n",
      "|Crime|              acting| 37.63552187749706|        27| 0.23870246614658844|\n",
      "|Crime|       serial killer| 37.56792000684036|       878|-0.04780487819552058|\n",
      "|Crime|        maggie smith|36.841361487904734|      5132|-0.00124999857507...|\n",
      "|Crime|       sudden impact| 36.26825436976076|      3085|-0.01055556204583...|\n",
      "|Crime|            thriller| 36.13563053968877|       200| 0.14352940798819283|\n",
      "|Crime|               films|35.611854292345306|         9| 0.03595252280687009|\n",
      "|Crime|                 end| 35.48900922288696|        21|-0.01100806605386...|\n",
      "|Crime|      lindsay crouse| 34.53877639491069|      5410|-0.01533333131422...|\n",
      "|Crime|             murders|33.203665544789395|       456|-0.12413461261357252|\n",
      "|Crime|        jean simmons| 33.04389599955799|      1660|-0.11760000236332417|\n",
      "|Crime|              murder| 33.02524559450305|       173| -0.3553209486606254|\n",
      "|Crime|           al pacino| 32.98646634746959|      1099|   0.034166662953794|\n",
      "|Crime|                 all| 32.55639933826834|        10|-0.01883899719110...|\n",
      "|Crime|             columbo|32.507265716800276|      1455|0.008148145241041979|\n",
      "|Crime|pickup on south s...| 32.25167044610499|      2999| 0.04000000262426005|\n",
      "|Crime|      modesty blaise|32.238448328676235|      3407| 0.08750000409781933|\n",
      "|Crime|        tony montana| 32.23619130191664|      5702|  -0.323571451207889|\n",
      "|Crime|        scott wilson| 32.01631911735053|      1937| 0.01818181946873665|\n",
      "|Crime|                wife|  31.7239508821481|        74| -0.1506824678495184|\n",
      "|Crime|         performance| 31.71351521300573|        29| 0.23742005130913468|\n",
      "|Crime|       albert finney|30.579320336247907|      2408|0.011578945394017194|\n",
      "|Crime|         ethan hawke|30.579320336247907|      1745|-0.11842105488635991|\n",
      "|Crime|philip seymour ho...|30.579320336247907|      2871| 0.02947368203221183|\n",
      "|Crime|        emma roberts| 30.56103188474368|      1388| 0.43571429296086234|\n",
      "|Crime|                noir|30.485602081875868|       890|0.054187497624661775|\n",
      "|Crime|panic in the streets|30.459910976876934|      2546|                 0.0|\n",
      "|Crime|           deathtrap|30.459910976876934|      2484|-8.82355167585260...|\n",
      "|Crime|              script|30.447699984590418|        54| 0.07747754338615669|\n",
      "|Crime|         karl malden| 30.40038431959335|      2599|-0.00608695513042...|\n",
      "|Crime|       red rock west| 30.22354530813397|      3691|0.007999999697009723|\n",
      "|Crime|             tierney| 30.22354530813397|      3698| -0.0549999987706542|\n",
      "|Crime|      juliette lewis| 30.22354530813397|      3682|-0.00600000023841...|\n",
      "|Crime|         jackie chan|30.099063265913543|      1094|-0.13600000108902652|\n",
      "|Crime|                cast|29.817025931164856|        22| 0.19932861680283406|\n",
      "|Crime|               crime|29.758754562096634|       297| -0.1833705345675948|\n",
      "|Crime|           film noir| 29.53516995550884|       738| 0.09951923412378304|\n",
      "|Crime|        marisa tomei|28.969882423813804|      1989|    0.04222221693231|\n",
      "|Crime|           microfilm|28.208642287591704|      3960|-0.16303572324769838|\n",
      "|Crime|          sam mendes|28.208642287591704|      3962|0.002142862150711...|\n",
      "|Crime|                 man| 27.92053664932398|        16| -0.1124905656535565|\n",
      "|Crime|   erika christensen| 27.63102111592855|      6171| 0.07833333810170491|\n",
      "|Crime|  johnny dangerously| 27.63102111592855|      6621|-0.17500000687626502|\n",
      "|Crime|      david duchovny|27.360444511379704|      2948|-5.88235061834840...|\n",
      "|Crime|     smooth criminal|27.360444511379704|      1969| 0.03058823461041731|\n",
      "|Crime|              scenes| 27.07765252406137|        17|0.001860410807625271|\n",
      "|Crime|       soylent green|26.876392038420825|      2774| -0.0980000017831723|\n",
      "|Crime|         perry smith|26.876392038420825|      2841|-0.48933335213611523|\n",
      "|Crime|      dakota fanning|26.876392038420825|      2795|  0.1259999990463257|\n",
      "|Crime|          hope davis|26.876392038420825|      2671|2.918144067128499...|\n",
      "|Crime|        gary merrill|26.876392038420825|      3378| 0.12466666450103124|\n",
      "|Crime|               laura| 26.43511679964639|      2229|-0.03800000059418...|\n",
      "|Crime|        hugh jackman| 26.19373926704944|      4197| 0.13384615149922097|\n",
      "|Crime|          ossessione| 26.19373926704944|      4270| 0.00846153934701131|\n",
      "|Crime|               scene|26.129407883140935|        23|-0.01212197741504...|\n",
      "|Crime|                work| 26.04435354260253|        40| 0.09931318341897657|\n",
      "|Crime|           hollywood|25.707339507947598|        51|-0.03613475315497...|\n",
      "|Crime|             killers| 25.55928169226727|       755|  -0.031361113791354|\n",
      "|Crime|               woman|25.342696394359688|        53|-0.04719424696652...|\n",
      "|Crime|           home room|25.328436022934504|      7082| 0.16636362671852112|\n",
      "|Crime|        joe mantegna|25.328436022934504|      7096| 0.09636363116177646|\n",
      "|Crime|         bob newhart|25.328436022934504|      7185|-0.04454544863917611|\n",
      "|Crime|         joe piscopo|25.328436022934504|      7023| 0.06636364080689171|\n",
      "|Crime|          edie falco|25.328436022934504|      7146|0.018181817775422878|\n",
      "|Crime|         paul newman|25.283428890844657|      2172|-0.09666666446164959|\n",
      "|Crime|              twists|25.122549192610997|       307| 0.07574073807048945|\n",
      "|Crime|      otto preminger| 25.11336095966407|      2719|0.001052630820164555|\n",
      "|Crime|        jack palance| 25.11336095966407|      2045|-0.14315789413491362|\n",
      "|Crime|      nathan detroit| 25.08463256919277|      2942| -0.0878571467474103|\n",
      "|Crime|       vivian blaine| 25.08463256919277|      2984|0.006428579733307872|\n",
      "|Crime|         ella raines| 25.08463256919277|      2935| 0.11285714193114213|\n",
      "|Crime|       sky masterson| 25.08463256919277|      2979|  0.0314285726552563|\n",
      "|Crime|          kalifornia| 25.08463256919277|      3797|-0.10214285905073796|\n",
      "|Crime|         zero mostel| 25.08463256919277|      2848|-0.03571428724431...|\n",
      "|Crime|           hong kong| 24.95329850015803|       641|-0.04000000241729948|\n",
      "|Crime|              ending| 24.61341016718387|        59| 0.00905555589986896|\n",
      "|Crime|         john rooney|24.178836246507174|      4509|-0.10500000494842728|\n",
      "|Crime|            giovanna|24.178836246507174|      4606| -0.2787499987365057|\n",
      "|Crime|       richard kiley|24.178836246507174|      4617|-0.35000000273187953|\n",
      "|Crime|where the sidewal...|24.178836246507174|      4601|0.001666666163752...|\n",
      "|Crime|          elia kazan|24.141568686511505|      2785| -0.0553333339591821|\n",
      "|Crime|        greg kinnear| 24.07945608651872|      1521| 0.13449999708682298|\n",
      "|Crime|               roles|24.066445496802007|        90|  0.0882859820408295|\n",
      "|Crime|              police| 23.91328491597051|       360| -0.2699861197628909|\n",
      "|Crime|        the sopranos| 23.79160511968175|      3565|0.003888888595004...|\n",
      "|Crime|         man on fire| 23.79160511968175|      2120| 0.05111111276265648|\n",
      "|Crime|       truman capote| 23.79160511968175|      2328|-0.01777777831173...|\n",
      "|Crime|      guys and dolls|23.292873099964716|      3153| 0.07615384158606713|\n",
      "|Crime|         john holmes|23.292873099964716|      3113| -0.2446153903236756|\n",
      "|Crime|         ruth gordon|23.284595721709472|      2649| 0.05375000269850716|\n",
      "|Crime|                 fbi| 23.25852039862784|      1193|-0.04540540444085727|\n",
      "|Crime|                fact|23.179313444721796|        24|-0.03382954611866...|\n",
      "|Crime|       marlon brando|23.070858062030304|      1741|4.761911751258941E-4|\n",
      "|Crime|        steven bauer| 23.02585092994046|      7704|-0.01499999929219...|\n",
      "|Crime|        sam rockwell| 23.02585092994046|      7825|0.003000000305473...|\n",
      "|Crime|      house of games| 23.02585092994046|      7779| 0.14500001491978765|\n",
      "|Crime|               actor|22.790194599244323|        97| 0.13025999413058162|\n",
      "|Crime|                 cop| 22.64130976618028|       515|-0.08861301403033407|\n",
      "|Crime|   edward g robinson|22.532130774077405|      2905|-0.00785714268152...|\n",
      "|Crime|            sopranos|22.532130774077405|      5168|-0.00357142855812...|\n",
      "|Crime|          moonwalker|22.532130774077405|      2405|0.030714285426906178|\n",
      "|Crime|            murderer|22.476327445703593|       847|-0.24380681969606402|\n",
      "|Crime|        nicolas cage| 22.46984927969943|      2428|-0.15588235871537642|\n",
      "|Crime|         ben chaplin| 22.16393322596491|      4976| 0.09272726938467134|\n",
      "|Crime|           tom tully| 22.16393322596491|      4941|-0.04363636308434335|\n",
      "|Crime|          skip mccoy| 22.16393322596491|      4889|-0.18727272884412247|\n",
      "|Crime|                  jt| 22.16393322596491|      5157| 0.09727272323586723|\n",
      "|Crime|          mark dixon| 22.16393322596491|      4926| -0.4781818301840262|\n",
      "|Crime|    alexandra staden| 22.16393322596491|      4980| 0.10727273249490694|\n",
      "|Crime|              killer|22.091211580106766|       265|-0.07379418915852604|\n",
      "|Crime|       in cold blood| 21.82930848910263|      2902|-0.03199999922265609|\n",
      "|Crime|          jamie foxx| 21.50111363073666|      3443|-0.01249999886689...|\n",
      "|Crime|    james gandolfini| 21.50111363073666|      4812|-0.04000000205511848|\n",
      "|Crime|         dyan cannon| 21.50111363073666|      3425|-0.06250000046566129|\n",
      "|Crime|         robert culp| 21.50111363073666|      3793|0.012499991804361343|\n",
      "|Crime|         stubby kaye| 21.50111363073666|      3447| 0.13416666661699614|\n",
      "|Crime|           detective| 21.45467619817161|       675| -0.1042857141832688|\n",
      "|Crime|               score|21.198637374849927|       123| 0.07936842188631234|\n",
      "|Crime|          pickpocket|21.148093439717112|      3019|-0.07484375033527613|\n",
      "|Crime|       franchot tone|21.148093439717112|      2359|-0.02000000042608...|\n",
      "|Crime|            everyone|21.035824015178967|        36|-0.03942177038589...|\n",
      "|Crime|             mystery|20.990550092907448|       240| 0.09757910924079487|\n",
      "|Crime|      richard brooks|20.922692861643302|      2972|-0.01000000077944...|\n",
      "|Crime|    lara flynn boyle|20.922692861643302|      3974|-0.04692307859659195|\n",
      "|Crime|              capote|20.922692861643302|      3681| -0.1276923048381622|\n",
      "|Crime|      vincent cassel|20.922692861643302|      3314|  0.1038461490892447|\n",
      "|Crime|               carla|20.922692861643302|      2986|  -0.403461533670242|\n",
      "|Crime|         bill paxton|20.873633484694086|      2077|0.018421050749327008|\n",
      "|Crime|   christopher reeve|20.467537673540914|      2249|0.002352940795176...|\n",
      "|Crime|               heist|20.467537673540914|      2930|-0.04323529709568795|\n",
      "|Crime|        paul douglas|20.374021256495787|      2846| 0.06499999608578426|\n",
      "|Crime|       neve campbell|20.374021256495787|      3625|-0.01928571505205972|\n",
      "|Crime|               drama|20.237692804128958|        98|  0.1583783720947198|\n",
      "|Crime|              plague| 20.15839610123141|      1584|-0.12522727276452564|\n",
      "|Crime|    luchino visconti|20.149030205422648|      5382|  0.0260000042617321|\n",
      "|Crime|                gino|20.149030205422648|      5317|-0.09200000069104135|\n",
      "|Crime|        sondra locke|20.149030205422648|      5486|-0.07200000872835517|\n",
      "|Crime|       david dorfman|20.149030205422648|      5340| 0.07399999694898725|\n",
      "|Crime|      tyler hoechlin|20.149030205422648|      5450|0.026999999303370714|\n",
      "|Crime|       clara calamai|20.149030205422648|      5398|-0.02000000029802...|\n",
      "|Crime|           secretary|20.101268236238415|      1164|-0.13862068255849438|\n",
      "|Crime|       dennis hopper|20.066042177275698|      2330|-0.15899999462999403|\n",
      "|Crime|            gangster|19.879441316207874|      1181|-0.06771428161965949|\n",
      "|Crime|                 fan|19.873049690541052|        61|-0.01321101134403...|\n",
      "|Crime|        grand canyon|19.826337599734792|      4033|0.006999999843537807|\n",
      "|Crime|                 moe|19.826337599734792|      2603|-0.00799999957283...|\n",
      "|Crime|               walsh|19.775021196025975|      2165|-0.01555555629440...|\n",
      "|Crime|  scarlett johansson|19.775021196025975|      2340|1.345243718889024...|\n",
      "|Crime|      pierce brosnan|19.775021196025975|      1456|-0.03166666683844394|\n",
      "|Crime|         alan curtis|19.709354161508603|      3688| -0.6072727522220124|\n",
      "|Crime|       samuel fuller|19.709354161508603|      4768|-0.03727272584695...|\n",
      "|Crime|      elisha cook jr|19.709354161508603|      3730|-0.05090909332714...|\n",
      "|Crime|     jacques audiard|19.709354161508603|      3798|-0.04363636316900903|\n",
      "|Crime|           ira levin|19.313254949209202|      3377|-0.04083333591309687|\n",
      "|Crime|                gina|19.313254949209202|      4818|-0.04916666867211461|\n",
      "|Crime|      everett sloane|19.313254949209202|      2793|-0.05416666879318...|\n",
      "|Crime|             hit man|19.313254949209202|      4169| -0.1241666644345969|\n",
      "|Crime|      michael keaton|19.313254949209202|      3230|0.011666670441627502|\n",
      "|Crime|   denzel washington|19.263564869214978|      1188|-0.04875000059837...|\n",
      "|Crime|     victor mclaglen|19.263564869214978|      1872|-0.07625000010011718|\n",
      "|Crime|      george clooney|19.263564869214978|      3687|0.007500002917367965|\n",
      "|Crime|the postman alway...|18.918734023888945|      4075|-0.01307692400251...|\n",
      "|Crime|    emmanuelle devos|18.918734023888945|      2977|-0.05923076998442...|\n",
      "|Crime|            jude law|18.918734023888945|      3683|-0.03846154684344...|\n",
      "|Crime|        police story|18.676408907357867|      2342|0.025588231982991975|\n",
      "|Crime|                cops|18.609295698230365|       588|-0.15912499741340677|\n",
      "|Crime|           direction| 18.60310967328752|       101|  0.1748461495784037|\n",
      "|Crime|              career| 18.52091475907941|       158|0.025421686992273634|\n",
      "|Crime|  laurence fishburne|18.504581759752472|      2531| 0.09571427725521582|\n",
      "|Crime|           ned kelly|18.504581759752472|      1776|-0.13785714988729783|\n",
      "|Crime|           embezzler|18.420680743952367|      9632|-0.00187500013271...|\n",
      "|Crime|       busy phillips|18.420680743952367|      9171| 0.04625000187661499|\n",
      "|Crime|          gypo nolan|18.420680743952367|      9344|-0.13750000461004674|\n",
      "|Crime|            criminal|18.389722455575665|      1196|-0.34736111007320386|\n",
      "|Crime|     michael jackson|18.325814637483102|      1338|  0.1740000031888485|\n",
      "|Crime|                 guy|18.316907986006175|        76|-0.16824218576584826|\n",
      "|Crime|        magnum force| 18.13412718488038|      5857|-0.06666666972968313|\n",
      "|Crime|         ian mcshane| 18.13412718488038|      5965|0.026666668554147083|\n",
      "|Crime|     massimo girotti| 18.13412718488038|      5999| 0.14555554702464077|\n",
      "+-----+--------------------+------------------+----------+--------------------+\n",
      "only showing top 200 rows\n",
      "\n"
     ]
    }
   ],
   "source": [
    "crime_df.orderBy(\"tfidf\", ascending=False).show(200)"
   ]
  },
  {
   "cell_type": "code",
   "execution_count": null,
   "metadata": {},
   "outputs": [],
   "source": []
  }
 ],
 "metadata": {
  "kernelspec": {
   "display_name": "Python 3",
   "language": "python",
   "name": "python3"
  },
  "language_info": {
   "codemirror_mode": {
    "name": "ipython",
    "version": 3
   },
   "file_extension": ".py",
   "mimetype": "text/x-python",
   "name": "python",
   "nbconvert_exporter": "python",
   "pygments_lexer": "ipython3",
   "version": "3.6.5"
  }
 },
 "nbformat": 4,
 "nbformat_minor": 2
}
