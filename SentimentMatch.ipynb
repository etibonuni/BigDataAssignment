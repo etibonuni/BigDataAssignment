{
 "cells": [
  {
   "cell_type": "markdown",
   "metadata": {},
   "source": [
    "Set up HDFS and Google credentials"
   ]
  },
  {
   "cell_type": "code",
   "execution_count": 1,
   "metadata": {
    "scrolled": true
   },
   "outputs": [
    {
     "data": {
      "text/html": [
       "\n",
       "        <div>\n",
       "            <p><b>SparkContext</b></p>\n",
       "\n",
       "            <p><a href=\"http://sp-master:4041\">Spark UI</a></p>\n",
       "\n",
       "            <dl>\n",
       "              <dt>Version</dt>\n",
       "                <dd><code>v2.3.0</code></dd>\n",
       "              <dt>Master</dt>\n",
       "                <dd><code>spark://10.164.0.2:7077</code></dd>\n",
       "              <dt>AppName</dt>\n",
       "                <dd><code>Test Etienne JOB</code></dd>\n",
       "            </dl>\n",
       "        </div>\n",
       "        "
      ],
      "text/plain": [
       "<SparkContext master=spark://10.164.0.2:7077 appName=Test Etienne JOB>"
      ]
     },
     "execution_count": 1,
     "metadata": {},
     "output_type": "execute_result"
    }
   ],
   "source": [
    "import findspark\n",
    "findspark.init()\n",
    "\n",
    "from pyspark import SparkContext, SparkConf\n",
    "from pyspark.sql import SparkSession\n",
    "\n",
    "\n",
    "LOCAL_IP = \"10.164.0.2\"\n",
    "\n",
    "spark = SparkSession \\\n",
    "    .builder \\\n",
    "    .appName(\"Test Etienne JOB\") \\\n",
    "    .master(\"spark://10.164.0.2:7077\") \\\n",
    "    .config(\"spark.executor.cores\", 2) \\\n",
    "    .config(\"spark.cores.max\", 14) \\\n",
    "    .config(\"spark.python.worker.memory\", \"6g\") \\\n",
    "    .config(\"spark.executor.memory\", \"5g\") \\\n",
    "    .config(\"spark.executorEnv.SPARK_LOCAL_IP\", LOCAL_IP) \\\n",
    "    .getOrCreate()\n",
    "\n",
    "sc = spark.sparkContext\n",
    "sc"
   ]
  },
  {
   "cell_type": "code",
   "execution_count": 2,
   "metadata": {},
   "outputs": [],
   "source": [
    "import os\n",
    "\n",
    "os.environ[\"GOOGLE_APPLICATION_CREDENTIALS\"]=\"./imdb-e9e7ce7a779d.json\"\n",
    "os.environ[\"HDFSCLI_CONFIG\"]=\"./.hdfscli.cfg\"\n",
    "os.environ[\"HADOOP_CONF_DIR\"]=\"/opt/hadoop-3.1.0/etc/hadoop\"\n",
    "sc.environment[\"GOOGLE_APPLICATION_CREDENTIALS\"]=\"/MovieScope-1bf4856cc738.json\""
   ]
  },
  {
   "cell_type": "markdown",
   "metadata": {},
   "source": [
    "List filenames of reviews from HDFS and parallelize in preparation from processing"
   ]
  },
  {
   "cell_type": "markdown",
   "metadata": {},
   "source": [
    "Parallelise the reviews and use Google NLP API to extract entities and related sentiment."
   ]
  },
  {
   "cell_type": "code",
   "execution_count": 3,
   "metadata": {},
   "outputs": [],
   "source": [
    "# Imports the Google Cloud client library\n",
    "from google.cloud import language\n",
    "from google.cloud.language import enums\n",
    "from google.cloud.language import types\n",
    "\n",
    "import pyspark.sql.functions as F\n",
    "from pyspark.sql.window import Window as W\n",
    "from pyspark.sql.types import *\n",
    "from pyspark.sql import Row\n",
    "import pyspark.sql.functions as functions\n",
    "from pyspark.sql.functions import collect_list\n",
    "from pyspark.sql.functions import collect_set\n",
    "from pyspark.sql.functions import udf\n",
    "from pyspark.sql.functions import col\n",
    "\n",
    "#from pyspark.mllib.linalg import SparseVector, DenseVector, VectorUDT\n",
    "from pyspark.ml.linalg import SparseVector, DenseVector, VectorUDT\n",
    "from pyspark.ml.classification import NaiveBayes, NaiveBayesModel, RandomForestClassifier, RandomForestClassificationModel\n",
    "from pyspark.ml.feature import CountVectorizer, CountVectorizerModel, HashingTF, IDF, IDFModel, StringIndexer, StringIndexerModel, IndexToString\n",
    "from pyspark.ml import Pipeline\n",
    "from pyspark.ml.evaluation import MulticlassClassificationEvaluator\n",
    "from pyspark.ml.tuning import CrossValidator, ParamGridBuilder\n",
    "\n",
    "from functools import reduce\n",
    "import re\n",
    "import numpy as np\n",
    "from scipy.stats import norm\n",
    "from math import exp\n",
    "import pickle\n",
    "import pandas as pd\n",
    "import base64"
   ]
  },
  {
   "cell_type": "code",
   "execution_count": 4,
   "metadata": {},
   "outputs": [],
   "source": [
    "def collectEntities(x, y):\n",
    "    # The first reduce call doesn't pass a list for x, so we need to check for that.\n",
    "    if not isinstance(x, list):\n",
    "        x=[x]\n",
    "        \n",
    "\n",
    "    xd = dict(x)\n",
    "    #print(xd)\n",
    "    \n",
    "    if not isinstance(y, list):\n",
    "        y = [y]\n",
    "        \n",
    "    for ye in y:\n",
    "        if ye[0] in xd:\n",
    "            try:\n",
    "                xd[ye[0]] = (xd[ye[0]]+ye[1])/2\n",
    "            except:\n",
    "                Null\n",
    "        else:\n",
    "            xd[ye[0]] = ye[1]\n",
    "    \n",
    "    return [o for o in xd.items()]\n",
    "        "
   ]
  },
  {
   "cell_type": "code",
   "execution_count": 5,
   "metadata": {},
   "outputs": [],
   "source": [
    "orientation = \"pos\"\n",
    "collection=\"reviews\"\n",
    "urlsCollection=\"train\""
   ]
  },
  {
   "cell_type": "markdown",
   "metadata": {},
   "source": [
    "Load genre information from file (previously collected using IMDB API)"
   ]
  },
  {
   "cell_type": "code",
   "execution_count": 6,
   "metadata": {},
   "outputs": [],
   "source": [
    "\n",
    "\n",
    "def decodeGenre(x):\n",
    "    try: \n",
    "        g = pickle.loads(base64.b64decode(x[2:-1]), encoding=\"bytes\") \n",
    "        if (len(g)==0):\n",
    "            return [\"NA\"]\n",
    "        else:\n",
    "            return g\n",
    "    except:\n",
    "        return [\"NA\"]    \n",
    "        \n",
    "\n",
    "def loadGenres(urlsCollection, orientation):\n",
    "    genres = pd.read_csv(\"Data/genres_\"+urlsCollection+\"_urls_\"+orientation+\".csv\", sep=\"\\t\", index_col=0, usecols=[1, 2, 3])\n",
    "    genres = genres.fillna(value=\"b''\")\n",
    "    genres[\"GENRE\"] = genres[\"GENRE\"].apply(decodeGenre) \n",
    "\n",
    "    schema = StructType([\n",
    "        StructField(\"FILM_ID\", IntegerType(), True),\n",
    "        StructField(\"GENRE\", ArrayType(StringType(), containsNull=True), True)])\n",
    "\n",
    "    genres_df = spark.createDataFrame(genres, schema)\n",
    "\n",
    "    from pyspark.sql.functions import monotonically_increasing_id\n",
    "\n",
    "    # This will return a new DF with all the columns + id\n",
    "    genres_df = genres_df.withColumn(\"ID_TEMP\", monotonically_increasing_id())#.limit(10)\n",
    "\n",
    "    genres_df = genres_df.withColumn(\"ID\",F.row_number().over(W.orderBy(\"ID_TEMP\"))).select([\"FILM_ID\", \"GENRE\", \"ID\"])#.limit(10)\n",
    "    \n",
    "    return genres_df\n"
   ]
  },
  {
   "cell_type": "code",
   "execution_count": 7,
   "metadata": {},
   "outputs": [
    {
     "name": "stdout",
     "output_type": "stream",
     "text": [
      "emtity_documents_info\n",
      "+-----+--------------------+\n",
      "|   ID|    ENTITY_SENTIMENT|\n",
      "+-----+--------------------+\n",
      "|10037|[[action, 0.01000...|\n",
      "|10038|[[actors, 0.64000...|\n",
      "|10039|[[achievement, 0....|\n",
      "|10040|[[acting, 0.80999...|\n",
      "| 1004|[[american, 0.0],...|\n",
      "+-----+--------------------+\n",
      "only showing top 5 rows\n",
      "\n",
      "genres_df\n",
      "+-------+-------------------+---+\n",
      "|FILM_ID|              GENRE| ID|\n",
      "+-------+-------------------+---+\n",
      "| 453418|[Animation, Comedy]|  1|\n",
      "| 453418|[Animation, Comedy]|  2|\n",
      "| 453418|[Animation, Comedy]|  3|\n",
      "|  64354|           [Comedy]|  4|\n",
      "|  64354|           [Comedy]|  5|\n",
      "+-------+-------------------+---+\n",
      "only showing top 5 rows\n",
      "\n",
      "entity_documents_info\n",
      "+---+--------------------+-------+-------------------+---+\n",
      "| ID|    ENTITY_SENTIMENT|FILM_ID|              GENRE| ID|\n",
      "+---+--------------------+-------+-------------------+---+\n",
      "|  1|[[adults, 0.0], [...| 453418|[Animation, Comedy]|  1|\n",
      "|  2|[[adult comedy ca...| 453418|[Animation, Comedy]|  2|\n",
      "|  3|[[british, 0.0], ...| 453418|[Animation, Comedy]|  3|\n",
      "|  4|[[actors, 0.0], [...|  64354|           [Comedy]|  4|\n",
      "|  5|[[acclaim, -0.010...|  64354|           [Comedy]|  5|\n",
      "+---+--------------------+-------+-------------------+---+\n",
      "only showing top 5 rows\n",
      "\n",
      "grouped_entities\n",
      "[['Animation', 'adults', 0.0], ['Comedy', 'adults', 0.0], ['Animation', 'age', 0.0], ['Comedy', 'age', 0.0], ['Animation', 'all', 0.0]]\n",
      "grouped_entites_df\n",
      "+---------+-------------+--------------------+\n",
      "|    genre|       entity|           sentiment|\n",
      "+---------+-------------+--------------------+\n",
      "|Animation|       adults|                 0.0|\n",
      "|   Comedy|       adults|                 0.0|\n",
      "|Animation|          age|                 0.0|\n",
      "|   Comedy|          age|                 0.0|\n",
      "|Animation|          all|                 0.0|\n",
      "|   Comedy|          all|                 0.0|\n",
      "|Animation|bromwell high|                 0.0|\n",
      "|   Comedy|bromwell high|                 0.0|\n",
      "|Animation|      episode|                 0.0|\n",
      "|   Comedy|      episode|                 0.0|\n",
      "|Animation|    inspector|                 0.0|\n",
      "|   Comedy|    inspector|                 0.0|\n",
      "|Animation|         line|                 0.0|\n",
      "|   Comedy|         line|                 0.0|\n",
      "|Animation|          one|-0.01000000070780...|\n",
      "|   Comedy|          one|-0.01000000070780...|\n",
      "|Animation|    pettiness|-0.01000000070780...|\n",
      "|   Comedy|    pettiness|-0.01000000070780...|\n",
      "|Animation|         pity|                 0.0|\n",
      "|   Comedy|         pity|                 0.0|\n",
      "+---------+-------------+--------------------+\n",
      "only showing top 20 rows\n",
      "\n",
      "grouped_entity_words\n",
      "+---------+--------------------+\n",
      "|    genre|            entities|\n",
      "+---------+--------------------+\n",
      "|    Crime|[all, assortment,...|\n",
      "|  Romance|[addition, africa...|\n",
      "| Thriller|[all, assortment,...|\n",
      "|Adventure|[biopic, cable, c...|\n",
      "|       NA|[amos seor grampa...|\n",
      "+---------+--------------------+\n",
      "only showing top 5 rows\n",
      "\n",
      "f1-score:  0.06896551724137931\n"
     ]
    }
   ],
   "source": [
    "#from pyspark.mllib.linalg import SparseVector, DenseVector, VectorUDT\n",
    "from pyspark.ml.linalg import SparseVector, DenseVector, VectorUDT\n",
    "from pyspark.sql.functions import udf\n",
    "\n",
    "def sparse2dense(sp):\n",
    "    return DenseVector(sp)\n",
    "\n",
    "\n",
    "\n",
    "\n",
    "    \n",
    "def separateGenres3(rec):\n",
    "    print(rec)\n",
    "    return [[genre, e, s] for (e, s) in rec.ENTITY_SENTIMENT for genre in rec.GENRE]\n",
    "\n",
    "def prepareDataset(collection, orientation, urls):\n",
    "    # Make sure we don't trigger Google Cloud API again\n",
    "    entity_documents_info = spark.read.parquet(\"hdfs://spark-master:8020/user/lmrd/\"+collection+\"/\"+orientation+\"_doc_info.pq\")\n",
    "    print(\"emtity_documents_info\")\n",
    "    entity_documents_info.show(5)\n",
    "\n",
    "    genres_df = loadGenres(urls, orientation)\n",
    "    print(\"genres_df\")\n",
    "    genres_df.show(5)\n",
    "    \n",
    "    entity_documents_info = entity_documents_info.alias(\"df1\").join(genres_df.alias(\"df2\"), entity_documents_info.ID == genres_df.ID)#.select([\"df1.*\", \"df2.FILM_ID\", \"df2.GENRE\"])\n",
    "    print(\"entity_documents_info\")\n",
    "    entity_documents_info.show(5)\n",
    "    \n",
    "    grouped_entities = entity_documents_info.rdd.flatMap(separateGenres3)\n",
    "    grouped_entities.repartition(5)\n",
    "    print(\"grouped_entities\")\n",
    "    print(grouped_entities.take(5))\n",
    "    \n",
    "    grouped_entities_df = spark.createDataFrame(data=grouped_entities, schema=[\"genre\", \"entity\", \"sentiment\"])\n",
    "    grouped_entities_df.cache()\n",
    "    print(\"grouped_entites_df\")\n",
    "    grouped_entities_df.show()\n",
    "    \n",
    "    grouped_entity_words = grouped_entities_df.select([\"genre\", \"entity\"]).groupBy(\"genre\").agg(collect_list(\"entity\").alias(\"entities\"))\n",
    "    print(\"grouped_entity_words\")\n",
    "    grouped_entity_words.show(5)\n",
    "    \n",
    "    return grouped_entity_words\n",
    "\n",
    "def extractTFIDFDataframeAndModel(collection, orientation, urls):\n",
    "\n",
    "    grouped_entity_words = prepareDataset(collection, orientation, urls)\n",
    "    \n",
    "    # Create the dictionary\n",
    "    countVec = CountVectorizer(inputCol=\"entities\", outputCol=\"tf\", minTF=0.01, minDF=1)\n",
    "    #countVec = HashingTF(numFeatures=1024, inputCol=\"entities\", outputCol=\"tf\")\n",
    "    idf = IDF(inputCol=\"tf\", outputCol=\"tfidf\")\n",
    "    si = StringIndexer(inputCol=\"genre\", outputCol=\"genreId\")#, handleInvalid=\"keep\")\n",
    "    #nb = NaiveBayes(featuresCol=\"tfidf\", labelCol=\"genreId\", predictionCol=\"predictGenreId\")\n",
    "    rf = RandomForestClassifier(featuresCol=\"tfidf\", labelCol=\"genreId\", predictionCol=\"predictGenreId\")\n",
    "    #isModel = IndexToString(inputCol=nb.getPredictionCol(), outputCol=\"predictGenre\")\n",
    "    \n",
    "#    grouped_entity_words = si.fit(grouped_entity_words).transform(grouped_entity_words)\n",
    "    #pipeline = Pipeline(stages=[countVec, idf, si, nb])\n",
    "    pipeline = Pipeline(stages=[countVec, idf, si, rf])\n",
    "    \n",
    "    \n",
    "#    paramGrid = ParamGridBuilder() \\\n",
    "#        .addGrid(countVec.minTF, [1.0]) \\\n",
    "#        .addGrid(countVec.minDF, [1.0]) \\\n",
    "#        .build()\n",
    "    \n",
    "#    crossval = CrossValidator(estimator=pipeline,\n",
    "#                  estimatorParamMaps=paramGrid,\n",
    "#                  evaluator=MulticlassClassificationEvaluator(predictionCol=\"predictGenreId\", labelCol=\"genreId\", metricName=\"accuracy\"),\n",
    "#                  numFolds=3, parallelism=5)  # use 3+ folds in practice\n",
    "    \n",
    "#    cvModel = crossval.fit(grouped_entity_words)\n",
    "    cvModel = pipeline.fit(grouped_entity_words)\n",
    "    \n",
    "    dft = cvModel.transform(grouped_entity_words)\n",
    "    \n",
    "    eval = MulticlassClassificationEvaluator(predictionCol=\"predictGenreId\", labelCol=\"genreId\", metricName=\"accuracy\")\n",
    "    print(\"f1-score: \", eval.evaluate(dft))\n",
    "    \n",
    "    \n",
    "    return cvModel\n",
    "\n",
    "cvModel = extractTFIDFDataframeAndModel(collection, orientation, urlsCollection)\n",
    "\n",
    "#(tfidf, cvmodel, idf, siModel, isModel) = extractTFIDFDataframe(collection, orientation, urlsCollection)\n",
    "#tfidf.show(5)\n"
   ]
  },
  {
   "cell_type": "code",
   "execution_count": 8,
   "metadata": {
    "scrolled": true
   },
   "outputs": [
    {
     "ename": "AttributeError",
     "evalue": "'PipelineModel' object has no attribute 'avgMetrics'",
     "output_type": "error",
     "traceback": [
      "\u001b[0;31m---------------------------------------------------------------------------\u001b[0m",
      "\u001b[0;31mAttributeError\u001b[0m                            Traceback (most recent call last)",
      "\u001b[0;32m<ipython-input-8-ae843274c99d>\u001b[0m in \u001b[0;36m<module>\u001b[0;34m()\u001b[0m\n\u001b[0;32m----> 1\u001b[0;31m \u001b[0mcvModel\u001b[0m\u001b[0;34m.\u001b[0m\u001b[0mavgMetrics\u001b[0m\u001b[0;34m\u001b[0m\u001b[0m\n\u001b[0m",
      "\u001b[0;31mAttributeError\u001b[0m: 'PipelineModel' object has no attribute 'avgMetrics'"
     ]
    }
   ],
   "source": [
    "cvModel.avgMetrics\n"
   ]
  },
  {
   "cell_type": "code",
   "execution_count": 7,
   "metadata": {},
   "outputs": [],
   "source": [
    "\n",
    "\n",
    "def checkSentimentValue(x):\n",
    "    try:\n",
    "        f = float(x)\n",
    "        \n",
    "        return f\n",
    "    \n",
    "    except:\n",
    "        print(\"Wrong sentiment value \", f)\n",
    "        return 0\n",
    "    \n",
    "def extractEntitiesSetimentForReview(review_contents):\n",
    "    # Instantiates a client\n",
    "    client = language.LanguageServiceClient()\n",
    "        \n",
    "    document = types.Document(content = review_contents, \n",
    "                             type=enums.Document.Type.PLAIN_TEXT, language=\"en-US\")\n",
    "    tries=1\n",
    "    \n",
    "    while tries < 5:\n",
    "        try:\n",
    "            entities = client.analyze_entity_sentiment(document=document, encoding_type=\"UTF8\")\n",
    "            break\n",
    "        except:\n",
    "            f = open(\"/home/etienne/sparklog.txt\", mode=\"a\")\n",
    "\n",
    "            f.write(\"\"+str(entities)+\"\\n\")\n",
    "            f.close()\n",
    "            time.sleep(1)\n",
    "            \n",
    "            tries +=1\n",
    "            \n",
    "    \n",
    "    \n",
    "    # Make sure we have no duplicate entities. If we do, average their sentiment.\n",
    "    justLetters = re.compile(\"[^a-z ]\")\n",
    "    response = [o for o in zip([justLetters.sub(\"\", entity.name.lower()) for entity in entities.entities], \n",
    "                               [checkSentimentValue(entity.sentiment.score) * checkSentimentValue(entity.sentiment.magnitude) \n",
    "                                    for entity in entities.entities])]\n",
    "    \n",
    "    \n",
    "#    response = sorted(response, key=lambda x: x[0])\n",
    "#    if (len(response)>1):\n",
    "#        response = reduce(collectEntities, response)\n",
    "    \n",
    "            \n",
    "    return response"
   ]
  },
  {
   "cell_type": "raw",
   "metadata": {},
   "source": [
    "#from pyspark.mllib.linalg import SparseVector, DenseVector, VectorUDT\n",
    "from pyspark.ml.linalg import SparseVector, DenseVector, VectorUDT\n",
    "from pyspark.sql.functions import udf\n",
    "\n",
    "def sparse2dense(sp):\n",
    "    return DenseVector(sp)\n",
    "\n",
    "udf_to_DenseVector = udf(sparse2dense, VectorUDT()) #Define UDF function\n",
    "\n",
    "tfidf2 = tfidf.withColumn(\"features\", udf_to_DenseVector(\"tfidf\"))\n",
    "\n"
   ]
  },
  {
   "cell_type": "code",
   "execution_count": null,
   "metadata": {},
   "outputs": [],
   "source": [
    "def indexToLabel(cvModel, indexes):\n",
    "    return [cvModel.bestModel.stages[2].labels[index] for index in indexes]\n",
    "\n",
    "def indexToLabel2(cvModel, indexes):\n",
    "    return [cvModel.stages[2].labels[index] for index in indexes]\n",
    "\n",
    "indexToLabel2(cvModel, [0])\n",
    "#pipeline = cvModel.bestModel.explainParams()  #getEstimator()\n",
    "#siModel = pipeline.getStages()[2]\n",
    "\n",
    "#nb = NaiveBayes(featuresCol=\"tfidf\", labelCol=\"genreId\", predictionCol=\"predictGenreId\")\n",
    "\n",
    "#nb_model = nb.fit(tfidf2)\n",
    "\n",
    "#print(nb_model.pi)\n"
   ]
  },
  {
   "cell_type": "raw",
   "metadata": {},
   "source": [
    "#nbmodel_file = open(\"nbmodel.obj\", mode=\"ab\")\n",
    "nb_model.write().overwrite().save(\"nbmodel.obj\")\n",
    "tfidf.write.parquet(\"hdfs://spark-master:8020/user/lmrd/\"+collection+\"/\"+orientation+\"_tfidf.pq\", mode=\"overwrite\")\n",
    "cvmodel.write().overwrite().save(\"cvModel.obj\")\n",
    "idf.write().overwrite().save(\"idfModel.obj\")\n",
    "siModel.write().overwrite().save(\"siModel.obj\")\n",
    "\n"
   ]
  },
  {
   "cell_type": "raw",
   "metadata": {},
   "source": [
    "nb_model = NaiveBayesModel.load(\"nbmodel.obj\")\n",
    "spark.read.parquet(\"hdfs://spark-master:8020/user/lmrd/\"+collection+\"/\"+orientation+\"_tfidf.pq\")\n",
    "cvmodel = CountVectorizerModel.load(\"cvModel.obj\")\n",
    "idf = IDFModel.load(\"idfModel.obj\")\n",
    "siModel = StringIndexerModel.load(\"siModel.obj\")\n",
    "isModel = IndexToString(inputCol=\"predictGenreId\", outputCol=\"predictGenre\", labels=siModel.labels)"
   ]
  },
  {
   "cell_type": "code",
   "execution_count": 34,
   "metadata": {},
   "outputs": [
    {
     "name": "stdout",
     "output_type": "stream",
     "text": [
      "emtity_documents_info\n",
      "+-----+--------------------+\n",
      "|   ID|    ENTITY_SENTIMENT|\n",
      "+-----+--------------------+\n",
      "|10172|[[actor, 0.640000...|\n",
      "|10173|[[academy award f...|\n",
      "|10174|[[actor, 0.780000...|\n",
      "|10175|[[attention, 0.0]...|\n",
      "|10176|[[alex, 0.0], [br...|\n",
      "+-----+--------------------+\n",
      "only showing top 5 rows\n",
      "\n",
      "genres_df\n",
      "+-------+-------------------+---+\n",
      "|FILM_ID|              GENRE| ID|\n",
      "+-------+-------------------+---+\n",
      "| 453418|[Animation, Comedy]|  1|\n",
      "| 453418|[Animation, Comedy]|  2|\n",
      "| 453418|[Animation, Comedy]|  3|\n",
      "|  64354|           [Comedy]|  4|\n",
      "|  64354|           [Comedy]|  5|\n",
      "+-------+-------------------+---+\n",
      "only showing top 5 rows\n",
      "\n",
      "entity_documents_info\n",
      "+---+--------------------+-------+-------------------+---+\n",
      "| ID|    ENTITY_SENTIMENT|FILM_ID|              GENRE| ID|\n",
      "+---+--------------------+-------+-------------------+---+\n",
      "|  1|[[anyone, -0.0400...| 453418|[Animation, Comedy]|  1|\n",
      "|  2|[[anyone, 0.0], [...| 453418|[Animation, Comedy]|  2|\n",
      "|  3|[[aa couple, 0.0]...| 453418|[Animation, Comedy]|  3|\n",
      "|  4|[[ability, 0.25],...|  64354|           [Comedy]|  4|\n",
      "|  5|[[ashton kutcher,...|  64354|           [Comedy]|  5|\n",
      "+---+--------------------+-------+-------------------+---+\n",
      "only showing top 5 rows\n",
      "\n",
      "grouped_entities\n",
      "[['Animation', 'anyone', -0.04000000283122063], ['Comedy', 'anyone', -0.04000000283122063], ['Animation', 'ashton kutcher', 0.0], ['Comedy', 'ashton kutcher', 0.0], ['Animation', 'ben randall', 0.04000000283122063]]\n",
      "grouped_entites_df\n",
      "+---------+--------------+--------------------+\n",
      "|    genre|        entity|           sentiment|\n",
      "+---------+--------------+--------------------+\n",
      "|Animation|        anyone|-0.04000000283122063|\n",
      "|   Comedy|        anyone|-0.04000000283122063|\n",
      "|Animation|ashton kutcher|                 0.0|\n",
      "|   Comedy|ashton kutcher|                 0.0|\n",
      "|Animation|   ben randall| 0.04000000283122063|\n",
      "|   Comedy|   ben randall| 0.04000000283122063|\n",
      "|Animation|     character|                 0.0|\n",
      "|   Comedy|     character|                 0.0|\n",
      "|Animation|        comedy|                 0.0|\n",
      "|   Comedy|        comedy|                 0.0|\n",
      "|Animation|      emotions|                 0.0|\n",
      "|   Comedy|      emotions|                 0.0|\n",
      "|Animation|       friends|                 0.0|\n",
      "|   Comedy|       friends|                 0.0|\n",
      "|Animation|          half|                 0.0|\n",
      "|   Comedy|          half|                 0.0|\n",
      "|Animation|  jake fischer|                 0.0|\n",
      "|   Comedy|  jake fischer|                 0.0|\n",
      "|Animation| kevin costner|                 0.0|\n",
      "|   Comedy| kevin costner|                 0.0|\n",
      "+---------+--------------+--------------------+\n",
      "only showing top 20 rows\n",
      "\n",
      "grouped_entity_words\n",
      "+---------+--------------------+\n",
      "|    genre|            entities|\n",
      "+---------+--------------------+\n",
      "|    Crime|[albert finney, c...|\n",
      "|  Romance|[acting moments, ...|\n",
      "| Thriller|[albert finney, c...|\n",
      "|Adventure|[bananas, beauty,...|\n",
      "|       NA|[beginning, bug, ...|\n",
      "+---------+--------------------+\n",
      "only showing top 5 rows\n",
      "\n",
      "+---------+--------------------+\n",
      "|    genre|            entities|\n",
      "+---------+--------------------+\n",
      "|    Crime|[albert finney, c...|\n",
      "|  Romance|[acting moments, ...|\n",
      "| Thriller|[albert finney, c...|\n",
      "|Adventure|[bananas, beauty,...|\n",
      "|       NA|[beginning, bug, ...|\n",
      "+---------+--------------------+\n",
      "only showing top 5 rows\n",
      "\n"
     ]
    }
   ],
   "source": [
    "# Evaluate the model\n",
    "ds = prepareDataset(\"test_reviews\", orientation, urlsCollection)\n",
    "\n",
    "ds.show(5)"
   ]
  },
  {
   "cell_type": "code",
   "execution_count": 82,
   "metadata": {},
   "outputs": [
    {
     "ename": "IllegalArgumentException",
     "evalue": "'Field \"genreId\" does not exist.'",
     "output_type": "error",
     "traceback": [
      "\u001b[0;31m---------------------------------------------------------------------------\u001b[0m",
      "\u001b[0;31mPy4JJavaError\u001b[0m                             Traceback (most recent call last)",
      "\u001b[0;32m/opt/spark-2.3.0-bin-hadoop2.7/python/pyspark/sql/utils.py\u001b[0m in \u001b[0;36mdeco\u001b[0;34m(*a, **kw)\u001b[0m\n\u001b[1;32m     62\u001b[0m         \u001b[0;32mtry\u001b[0m\u001b[0;34m:\u001b[0m\u001b[0;34m\u001b[0m\u001b[0m\n\u001b[0;32m---> 63\u001b[0;31m             \u001b[0;32mreturn\u001b[0m \u001b[0mf\u001b[0m\u001b[0;34m(\u001b[0m\u001b[0;34m*\u001b[0m\u001b[0ma\u001b[0m\u001b[0;34m,\u001b[0m \u001b[0;34m**\u001b[0m\u001b[0mkw\u001b[0m\u001b[0;34m)\u001b[0m\u001b[0;34m\u001b[0m\u001b[0m\n\u001b[0m\u001b[1;32m     64\u001b[0m         \u001b[0;32mexcept\u001b[0m \u001b[0mpy4j\u001b[0m\u001b[0;34m.\u001b[0m\u001b[0mprotocol\u001b[0m\u001b[0;34m.\u001b[0m\u001b[0mPy4JJavaError\u001b[0m \u001b[0;32mas\u001b[0m \u001b[0me\u001b[0m\u001b[0;34m:\u001b[0m\u001b[0;34m\u001b[0m\u001b[0m\n",
      "\u001b[0;32m/opt/spark-2.3.0-bin-hadoop2.7/python/lib/py4j-0.10.6-src.zip/py4j/protocol.py\u001b[0m in \u001b[0;36mget_return_value\u001b[0;34m(answer, gateway_client, target_id, name)\u001b[0m\n\u001b[1;32m    319\u001b[0m                     \u001b[0;34m\"An error occurred while calling {0}{1}{2}.\\n\"\u001b[0m\u001b[0;34m.\u001b[0m\u001b[0;34m\u001b[0m\u001b[0m\n\u001b[0;32m--> 320\u001b[0;31m                     format(target_id, \".\", name), value)\n\u001b[0m\u001b[1;32m    321\u001b[0m             \u001b[0;32melse\u001b[0m\u001b[0;34m:\u001b[0m\u001b[0;34m\u001b[0m\u001b[0m\n",
      "\u001b[0;31mPy4JJavaError\u001b[0m: An error occurred while calling o27264.evaluate.\n: java.lang.IllegalArgumentException: Field \"genreId\" does not exist.\n\tat org.apache.spark.sql.types.StructType$$anonfun$apply$1.apply(StructType.scala:267)\n\tat org.apache.spark.sql.types.StructType$$anonfun$apply$1.apply(StructType.scala:267)\n\tat scala.collection.MapLike$class.getOrElse(MapLike.scala:128)\n\tat scala.collection.AbstractMap.getOrElse(Map.scala:59)\n\tat org.apache.spark.sql.types.StructType.apply(StructType.scala:266)\n\tat org.apache.spark.ml.util.SchemaUtils$.checkNumericType(SchemaUtils.scala:71)\n\tat org.apache.spark.ml.evaluation.MulticlassClassificationEvaluator.evaluate(MulticlassClassificationEvaluator.scala:76)\n\tat sun.reflect.GeneratedMethodAccessor141.invoke(Unknown Source)\n\tat sun.reflect.DelegatingMethodAccessorImpl.invoke(DelegatingMethodAccessorImpl.java:43)\n\tat java.lang.reflect.Method.invoke(Method.java:498)\n\tat py4j.reflection.MethodInvoker.invoke(MethodInvoker.java:244)\n\tat py4j.reflection.ReflectionEngine.invoke(ReflectionEngine.java:357)\n\tat py4j.Gateway.invoke(Gateway.java:282)\n\tat py4j.commands.AbstractCommand.invokeMethod(AbstractCommand.java:132)\n\tat py4j.commands.CallCommand.execute(CallCommand.java:79)\n\tat py4j.GatewayConnection.run(GatewayConnection.java:214)\n\tat java.lang.Thread.run(Thread.java:748)\n",
      "\nDuring handling of the above exception, another exception occurred:\n",
      "\u001b[0;31mIllegalArgumentException\u001b[0m                  Traceback (most recent call last)",
      "\u001b[0;32m<ipython-input-82-2e6662c8f34a>\u001b[0m in \u001b[0;36m<module>\u001b[0;34m()\u001b[0m\n\u001b[1;32m      3\u001b[0m \u001b[0;34m\u001b[0m\u001b[0m\n\u001b[1;32m      4\u001b[0m \u001b[0meval\u001b[0m \u001b[0;34m=\u001b[0m \u001b[0mMulticlassClassificationEvaluator\u001b[0m\u001b[0;34m(\u001b[0m\u001b[0mpredictionCol\u001b[0m\u001b[0;34m=\u001b[0m\u001b[0;34m\"predictGenreId\"\u001b[0m\u001b[0;34m,\u001b[0m \u001b[0mlabelCol\u001b[0m\u001b[0;34m=\u001b[0m\u001b[0;34m\"genreId\"\u001b[0m\u001b[0;34m,\u001b[0m \u001b[0mmetricName\u001b[0m\u001b[0;34m=\u001b[0m\u001b[0;34m\"accuracy\"\u001b[0m\u001b[0;34m)\u001b[0m\u001b[0;34m\u001b[0m\u001b[0m\n\u001b[0;32m----> 5\u001b[0;31m \u001b[0mprint\u001b[0m\u001b[0;34m(\u001b[0m\u001b[0;34m\"f1-score: \"\u001b[0m\u001b[0;34m,\u001b[0m \u001b[0meval\u001b[0m\u001b[0;34m.\u001b[0m\u001b[0mevaluate\u001b[0m\u001b[0;34m(\u001b[0m\u001b[0mtestpreds\u001b[0m\u001b[0;34m)\u001b[0m\u001b[0;34m)\u001b[0m\u001b[0;34m\u001b[0m\u001b[0m\n\u001b[0m",
      "\u001b[0;32m/opt/spark-2.3.0-bin-hadoop2.7/python/pyspark/ml/evaluation.py\u001b[0m in \u001b[0;36mevaluate\u001b[0;34m(self, dataset, params)\u001b[0m\n\u001b[1;32m     68\u001b[0m                 \u001b[0;32mreturn\u001b[0m \u001b[0mself\u001b[0m\u001b[0;34m.\u001b[0m\u001b[0mcopy\u001b[0m\u001b[0;34m(\u001b[0m\u001b[0mparams\u001b[0m\u001b[0;34m)\u001b[0m\u001b[0;34m.\u001b[0m\u001b[0m_evaluate\u001b[0m\u001b[0;34m(\u001b[0m\u001b[0mdataset\u001b[0m\u001b[0;34m)\u001b[0m\u001b[0;34m\u001b[0m\u001b[0m\n\u001b[1;32m     69\u001b[0m             \u001b[0;32melse\u001b[0m\u001b[0;34m:\u001b[0m\u001b[0;34m\u001b[0m\u001b[0m\n\u001b[0;32m---> 70\u001b[0;31m                 \u001b[0;32mreturn\u001b[0m \u001b[0mself\u001b[0m\u001b[0;34m.\u001b[0m\u001b[0m_evaluate\u001b[0m\u001b[0;34m(\u001b[0m\u001b[0mdataset\u001b[0m\u001b[0;34m)\u001b[0m\u001b[0;34m\u001b[0m\u001b[0m\n\u001b[0m\u001b[1;32m     71\u001b[0m         \u001b[0;32melse\u001b[0m\u001b[0;34m:\u001b[0m\u001b[0;34m\u001b[0m\u001b[0m\n\u001b[1;32m     72\u001b[0m             \u001b[0;32mraise\u001b[0m \u001b[0mValueError\u001b[0m\u001b[0;34m(\u001b[0m\u001b[0;34m\"Params must be a param map but got %s.\"\u001b[0m \u001b[0;34m%\u001b[0m \u001b[0mtype\u001b[0m\u001b[0;34m(\u001b[0m\u001b[0mparams\u001b[0m\u001b[0;34m)\u001b[0m\u001b[0;34m)\u001b[0m\u001b[0;34m\u001b[0m\u001b[0m\n",
      "\u001b[0;32m/opt/spark-2.3.0-bin-hadoop2.7/python/pyspark/ml/evaluation.py\u001b[0m in \u001b[0;36m_evaluate\u001b[0;34m(self, dataset)\u001b[0m\n\u001b[1;32m     98\u001b[0m         \"\"\"\n\u001b[1;32m     99\u001b[0m         \u001b[0mself\u001b[0m\u001b[0;34m.\u001b[0m\u001b[0m_transfer_params_to_java\u001b[0m\u001b[0;34m(\u001b[0m\u001b[0;34m)\u001b[0m\u001b[0;34m\u001b[0m\u001b[0m\n\u001b[0;32m--> 100\u001b[0;31m         \u001b[0;32mreturn\u001b[0m \u001b[0mself\u001b[0m\u001b[0;34m.\u001b[0m\u001b[0m_java_obj\u001b[0m\u001b[0;34m.\u001b[0m\u001b[0mevaluate\u001b[0m\u001b[0;34m(\u001b[0m\u001b[0mdataset\u001b[0m\u001b[0;34m.\u001b[0m\u001b[0m_jdf\u001b[0m\u001b[0;34m)\u001b[0m\u001b[0;34m\u001b[0m\u001b[0m\n\u001b[0m\u001b[1;32m    101\u001b[0m \u001b[0;34m\u001b[0m\u001b[0m\n\u001b[1;32m    102\u001b[0m     \u001b[0;32mdef\u001b[0m \u001b[0misLargerBetter\u001b[0m\u001b[0;34m(\u001b[0m\u001b[0mself\u001b[0m\u001b[0;34m)\u001b[0m\u001b[0;34m:\u001b[0m\u001b[0;34m\u001b[0m\u001b[0m\n",
      "\u001b[0;32m/opt/spark-2.3.0-bin-hadoop2.7/python/lib/py4j-0.10.6-src.zip/py4j/java_gateway.py\u001b[0m in \u001b[0;36m__call__\u001b[0;34m(self, *args)\u001b[0m\n\u001b[1;32m   1158\u001b[0m         \u001b[0manswer\u001b[0m \u001b[0;34m=\u001b[0m \u001b[0mself\u001b[0m\u001b[0;34m.\u001b[0m\u001b[0mgateway_client\u001b[0m\u001b[0;34m.\u001b[0m\u001b[0msend_command\u001b[0m\u001b[0;34m(\u001b[0m\u001b[0mcommand\u001b[0m\u001b[0;34m)\u001b[0m\u001b[0;34m\u001b[0m\u001b[0m\n\u001b[1;32m   1159\u001b[0m         return_value = get_return_value(\n\u001b[0;32m-> 1160\u001b[0;31m             answer, self.gateway_client, self.target_id, self.name)\n\u001b[0m\u001b[1;32m   1161\u001b[0m \u001b[0;34m\u001b[0m\u001b[0m\n\u001b[1;32m   1162\u001b[0m         \u001b[0;32mfor\u001b[0m \u001b[0mtemp_arg\u001b[0m \u001b[0;32min\u001b[0m \u001b[0mtemp_args\u001b[0m\u001b[0;34m:\u001b[0m\u001b[0;34m\u001b[0m\u001b[0m\n",
      "\u001b[0;32m/opt/spark-2.3.0-bin-hadoop2.7/python/pyspark/sql/utils.py\u001b[0m in \u001b[0;36mdeco\u001b[0;34m(*a, **kw)\u001b[0m\n\u001b[1;32m     77\u001b[0m                 \u001b[0;32mraise\u001b[0m \u001b[0mQueryExecutionException\u001b[0m\u001b[0;34m(\u001b[0m\u001b[0ms\u001b[0m\u001b[0;34m.\u001b[0m\u001b[0msplit\u001b[0m\u001b[0;34m(\u001b[0m\u001b[0;34m': '\u001b[0m\u001b[0;34m,\u001b[0m \u001b[0;36m1\u001b[0m\u001b[0;34m)\u001b[0m\u001b[0;34m[\u001b[0m\u001b[0;36m1\u001b[0m\u001b[0;34m]\u001b[0m\u001b[0;34m,\u001b[0m \u001b[0mstackTrace\u001b[0m\u001b[0;34m)\u001b[0m\u001b[0;34m\u001b[0m\u001b[0m\n\u001b[1;32m     78\u001b[0m             \u001b[0;32mif\u001b[0m \u001b[0ms\u001b[0m\u001b[0;34m.\u001b[0m\u001b[0mstartswith\u001b[0m\u001b[0;34m(\u001b[0m\u001b[0;34m'java.lang.IllegalArgumentException: '\u001b[0m\u001b[0;34m)\u001b[0m\u001b[0;34m:\u001b[0m\u001b[0;34m\u001b[0m\u001b[0m\n\u001b[0;32m---> 79\u001b[0;31m                 \u001b[0;32mraise\u001b[0m \u001b[0mIllegalArgumentException\u001b[0m\u001b[0;34m(\u001b[0m\u001b[0ms\u001b[0m\u001b[0;34m.\u001b[0m\u001b[0msplit\u001b[0m\u001b[0;34m(\u001b[0m\u001b[0;34m': '\u001b[0m\u001b[0;34m,\u001b[0m \u001b[0;36m1\u001b[0m\u001b[0;34m)\u001b[0m\u001b[0;34m[\u001b[0m\u001b[0;36m1\u001b[0m\u001b[0;34m]\u001b[0m\u001b[0;34m,\u001b[0m \u001b[0mstackTrace\u001b[0m\u001b[0;34m)\u001b[0m\u001b[0;34m\u001b[0m\u001b[0m\n\u001b[0m\u001b[1;32m     80\u001b[0m             \u001b[0;32mraise\u001b[0m\u001b[0;34m\u001b[0m\u001b[0m\n\u001b[1;32m     81\u001b[0m     \u001b[0;32mreturn\u001b[0m \u001b[0mdeco\u001b[0m\u001b[0;34m\u001b[0m\u001b[0m\n",
      "\u001b[0;31mIllegalArgumentException\u001b[0m: 'Field \"genreId\" does not exist.'"
     ]
    }
   ],
   "source": [
    "testpreds = cvModel.transform(ds)\n",
    "#testpreds.take(1)[0].tf\n",
    "\n",
    "eval = MulticlassClassificationEvaluator(predictionCol=\"predictGenreId\", labelCol=\"genreId\", metricName=\"accuracy\")\n",
    "print(\"f1-score: \", eval.evaluate(testpreds))"
   ]
  },
  {
   "cell_type": "code",
   "execution_count": 23,
   "metadata": {},
   "outputs": [
    {
     "name": "stdout",
     "output_type": "stream",
     "text": [
      "[('action', 0.0), ('all', 0.0), ('case', 0.0), ('character', 0.0), ('cheese', 0.0), ('cheese factors', -0.010000000298023226), ('coast guard', 0.0), ('costner', -0.16000000476837162), ('course', 0.0), ('critics', -0.010000000298023226), ('each other', -0.01500000044703484), ('end', 0.0), ('f word', -0.010000000298023226), ('film', 0.0), ('gentlemen', 0.0), ('impression', 0.0), ('is', -0.010000000298023226), ('kutcher', -0.03000000163912775), ('lives', -0.03000000163912775), ('love story', 0.0), ('movie', -0.005000000149011613), ('movieas', 0.0), ('nothing', 0.0), ('officer', 0.0), ('others', 0.0), ('part', -0.040000001192092904), ('pilot', 0.0), ('rescue', 0.0), ('rescue action scenes', 0.0), ('skeptic', 0.0), ('some', 0.0), ('struggles', -0.4899999833106996), ('surprise', 0.0), ('tale', -0.010000000298023226), ('times', -0.040000001192092904), ('top gun', 0.0), ('trailer', 0.0), ('web', 0.0), ('woundsas', 0.0), ('acting', 0.8099999570846563), ('actorit', 0.6400000190734865), ('ads', 0.010000000298023226), ('all', 0.010000000298023226), ('anyone', 0.0), ('ashton kutcher', 0.0), ('employee screening', 0.0), ('fan', 0.0), ('film', 0.0), ('heroes', 0.0), ('kelso', 0.0), ('kevin costner', 0.25), ('lot', 0.0), ('movie', -0.020000000596046452), ('movie theater', 0.0), ('story', 0.7800000023841847), ('that s show', 0.0), ('the butterfly effect', 0.0), ('the guardian', 0.0), ('thinking', 0.0), ('trailers', 0.010000000298023226), ('tribute', 0.8099999570846563), ('us coast guard', 0.0), ('way', 0.0), ('work', 0.25)]\n",
      "+--------------+------------+\n",
      "|        entity|   sentiment|\n",
      "+--------------+------------+\n",
      "|        action|         0.0|\n",
      "|           all|         0.0|\n",
      "|          case|         0.0|\n",
      "|     character|         0.0|\n",
      "|        cheese|         0.0|\n",
      "|cheese factors|-0.010000001|\n",
      "|   coast guard|         0.0|\n",
      "|       costner| -0.16000001|\n",
      "|        course|         0.0|\n",
      "|       critics|-0.010000001|\n",
      "|    each other|-0.015000001|\n",
      "|           end|         0.0|\n",
      "|        f word|-0.010000001|\n",
      "|          film|         0.0|\n",
      "|     gentlemen|         0.0|\n",
      "|    impression|         0.0|\n",
      "|            is|-0.010000001|\n",
      "|       kutcher|-0.030000001|\n",
      "|         lives|-0.030000001|\n",
      "|    love story|         0.0|\n",
      "+--------------+------------+\n",
      "only showing top 20 rows\n",
      "\n",
      "+--------------------+----------------------+\n",
      "|            entities|collect_set(sentiment)|\n",
      "+--------------------+----------------------+\n",
      "|[thinking, employ...|  [0.0, -0.03000000...|\n",
      "+--------------------+----------------------+\n",
      "\n"
     ]
    }
   ],
   "source": [
    "\n",
    "\n",
    "#revText=[\"I went and saw this movie last night after being coaxed to by a few friends of mine. I'll admit that I was reluctant to see it because from what I knew of Ashton Kutcher he was only able to do comedy. I was wrong. Kutcher played the character of Jake Fischer very well, and Kevin Costner played Ben Randall with such professionalism. The sign of a good movie is that it can toy with our emotions. This one did exactly that. The entire theater (which was sold out) was overcome by laughter during the first half of the movie, and were moved to tears during the second half. While exiting the theater I not only saw many women in tears, but many full grown men as well, trying desperately not to let anyone see them crying. This movie was great, and I suggest that you go see it before you judge.\"]\n",
    "revText=[\"As others that have commented around the web... I'm a 130 pilot in the Coast Guard. Having said that, and being the skeptic I am, I went expecting the over-the-top cheese factors. There was some cheese, but all in all, not much.. and the film was pretty accurate.I watched the trailer again today. After seeing the film yesterday, I've realized the trailer gives the impression the movie is nothing but rescue after rescue action scenes. This isn't the case.The movie is truly more character/story driven than action. The inner struggles both Costner and Kutcher are dealing with.. Kutcher's is revealed further into than movie than Costner's is.Of course, there is a minor love story.. no surprise there. But for the most part, the movie tells the tale of two lives that come together, and after some time, help each other heal old wounds.As girlie as it sounds, Costner and, as much as I try not to like him, Kutcher do actually work quite well together and compliment each other very well in the movie.As critics have stated, you've seen it all before.. Top Gun, Officer and a Gentlemen, etc. But what movie hasn't been remade a million times.I can recall only one F word being spoken.. and can't really recall any other language.The movie is 2+ hours, and for some, may tend to get a little long towards the end.You'll laugh, you may cry, but I can honestly say, it was worth the $4 I paid.I hope you enjoy the movie\",\n",
    "         \"I work at a movie theater and every Thursday night we have an employee screening of one movie that comes out the next day...Today it was The Guardian. I saw the trailers and the ads and never expected much from it, and in no way really did i anticipate seeing this movie. Well turns out this movie was a lot more than I would have thought. It was a great story first of all. Ashton Kutcher and Kevin Costner did amazing acting work in this film. Being a big fan of That 70's Show I always found it hard thinking of Kutcher as anyone but Kelso despite the great acting he did in The Butterfly Effect, but after seeing this movie I think I might be able to finally look at him as a serious actor.It was also a great tribute to the unsung heroes of the U.S. Coast Guard.\"]\n",
    "revTextRdd = sc.parallelize(revText)\n",
    "\n",
    "#entitiesForTest = revTextRdd.flatMap(extractEntitiesSetimentForReview)\n",
    "entitiesForTest = revTextRdd.flatMap(extractEntitiesSetimentForReview)\n",
    "\n",
    "print(entitiesForTest.collect())\n",
    "schema1 = StructType(\n",
    "                [StructField(\"entity\", StringType(), False), \n",
    "                 StructField(\"sentiment\", FloatType(), False)])\n",
    "\n",
    "entitiesForTest_df = spark.createDataFrame(entitiesForTest, schema=schema1)\n",
    "\n",
    "entitiesForTest_df.show()\n",
    "entitiesForTest2_df = entitiesForTest_df.agg(collect_set('entity').alias('entities')).crossJoin(entitiesForTest_df.agg(functions.('sentiment')).alias(\"sentiment\"))\n",
    "\n",
    "entitiesForTest2_df.show()\n",
    "\n"
   ]
  },
  {
   "cell_type": "code",
   "execution_count": 11,
   "metadata": {},
   "outputs": [
    {
     "name": "stdout",
     "output_type": "stream",
     "text": [
      "+--------------------+----------------------+--------------------+--------------------+--------------------+--------------------+--------------+\n",
      "|            entities|collect_set(sentiment)|                  tf|               tfidf|       rawPrediction|         probability|predictGenreId|\n",
      "+--------------------+----------------------+--------------------+--------------------+--------------------+--------------------+--------------+\n",
      "|[thinking, employ...|  [0.0, -0.03000000...|(76511,[0,1,3,5,1...|(76511,[0,1,3,5,1...|[-334.14323319175...|[5.02615740634632...|          12.0|\n",
      "+--------------------+----------------------+--------------------+--------------------+--------------------+--------------------+--------------+\n",
      "\n",
      "[-334.143233191757,-337.65256154337135,-336.7078834755889,-337.4525348331828,-334.34186354813886,-333.46345417628805,-335.5362793877702,-337.0783122678819,-334.3714919319533,-316.41819890263974,-335.4348399731048,-327.8694864871247,-315.32321695586654,-334.86814846859784,-341.09810366310194,-335.6773187125191,-335.2944220673294,-335.6348276605913,-335.7891050582373,-337.4409416436533,-335.65136399048583,-332.99316087699054,-336.29403966155604,-334.3197178128254,-337.0801253521214,-331.3299821852462,-335.39458248366947,-330.80136481429514,-337.5960945270693]\n",
      "[0.9654919675599869, 0.9651295480806414, 0.9652271079836119, 0.9651502054739938, 0.965471454372525, 0.9655621704968944, 0.9653481032570552, 0.9651888526262938, 0.9654683945552722, 0.967322488119708, 0.9653585792274304, 0.9661398772983824, 0.9674355703814063, 0.9654171032580809, 0.964773716007954, 0.9653335376782546, 0.9653730806303209, 0.9653379258640764, 0.965321993147463, 0.9651514027394794, 0.9653362181047931, 0.965610739178874, 0.9652698469480474, 0.9654737414329131, 0.9651886653833287, 0.9657825009221839, 0.965362736746163, 0.9658370929161947, 0.9651353796086712]\n",
      "[14  1 28  3 19 24  7  2 22 18 15 20 17  6 10 26 16 13  8  4 23  0  5 21\n",
      " 25 27 11  9 12]\n",
      "['Romance', 'Comedy', 'Fantasy']\n"
     ]
    }
   ],
   "source": [
    "entitiesForTest3_df = cvModel.transform(entitiesForTest2_df)\n",
    "\n",
    "entitiesForTest3_df.show()\n",
    "\n",
    "indexToLabel2(cvModel, [int(entitiesForTest3_df.select(\"predictGenreId\").take(1)[0].predictGenreId)])\n",
    "\n",
    "scores = entitiesForTest3_df.select(\"rawPrediction\").collect()[0].rawPrediction\n",
    "print(scores)\n",
    "\n",
    "probs = [1-(1.0*s)/np.sum(scores) for s in scores]\n",
    "#probs = [exp(np.max(scores) - s) for s in scores]\n",
    "print(probs)\n",
    "print(np.argsort(scores))\n",
    "top = np.argsort(scores)[:-4:-1]\n",
    "\n",
    "print(indexToLabel2(cvModel, top))"
   ]
  },
  {
   "cell_type": "code",
   "execution_count": 39,
   "metadata": {},
   "outputs": [
    {
     "name": "stdout",
     "output_type": "stream",
     "text": [
      "['Animation', 'Talk-Show', 'Thriller', 'Adult', 'War', 'Horror', 'Documentary', 'NA', 'Biography', 'Comedy', 'Western', 'Fantasy', 'Romance', 'Family', 'Drama', 'Short', 'Sport', 'History', 'Film-Noir', 'Reality-TV', 'Music', 'Mystery', 'Musical', 'Sci-Fi', 'Game-Show', 'Adventure', 'Crime', 'Action', 'News']\n",
      "[-537.7891618608271,-587.9934842823056,-518.4590082407616,-585.93812581499,-543.6674228395556,-538.8842749128711,-553.6583065705015,-582.2730094151456,-537.4807382920243,-514.2212682051768,-556.3789659243172,-523.747313855792,-513.583636157141,-530.9484400011238,-506.7379617621209,-558.7893495978734,-554.9934586069586,-546.6821482616766,-561.8042696801848,-584.53159521691,-552.8948283999592,-534.1307261361959,-544.3075497937868,-529.3509095570462,-586.2027202433444,-518.7623805869365,-523.9627650786558,-514.3693191457652,-588.0464268898968]\n",
      "[0.9660284817794389, 0.9628571329036251, 0.9672495451858455, 0.9629869675164696, 0.9656571588445305, 0.9659593047568444, 0.9650260462956444, 0.9632184886726919, 0.966047964538911, 0.9675172383136407, 0.9648541853966811, 0.9669154890476829, 0.9675575167912933, 0.9664606022529988, 0.9679899501107707, 0.9647019242529247, 0.9649417062885368, 0.9654667221327656, 0.964511475244701, 0.9630758164246089, 0.9650742743270384, 0.9662595809251487, 0.9656167227665443, 0.966561516400099, 0.962970253393015, 0.967230381506254, 0.9669018792435771, 0.9675078861072697, 0.962853788580448]\n",
      "[28  1 24  3 19  7 18 15 10 16  6 20 17 22  4  5  0  8 21 13 23 26 11 25\n",
      "  2 27  9 12 14]\n",
      "+--------------------+----------------------+--------------------+--------------------+--------------------+--------------------+--------------+------------+\n",
      "|            entities|collect_set(sentiment)|                  tf|            features|       rawPrediction|         probability|predictGenreId|predictGenre|\n",
      "+--------------------+----------------------+--------------------+--------------------+--------------------+--------------------+--------------+------------+\n",
      "|[thinking, employ...|  [0.0, -0.03000000...|(76511,[0,1,3,5,1...|[1.0,1.0,0.0,1.0,...|[-537.78916186082...|[3.26372056603478...|          14.0|       Drama|\n",
      "+--------------------+----------------------+--------------------+--------------------+--------------------+--------------------+--------------+------------+\n",
      "\n"
     ]
    }
   ],
   "source": [
    "\n",
    "\n",
    "entitiesForTest3_df = cvmodel.transform(entitiesForTest2_df)\n",
    "\n",
    "entitiesForTest3_df = entitiesForTest3_df.withColumn(\"features\", udf_to_DenseVector(\"tf\"))\n",
    "\n",
    "entitiesForTest3_df = model.transform(entitiesForTest3_df)\n",
    "\n",
    "entitiesForTest3_df = isModel.transform(entitiesForTest3_df)\n",
    "\n",
    "print(isModel.getLabels())\n",
    "scores = entitiesForTest3_df.select(\"rawPrediction\").collect()[0].rawPrediction\n",
    "print(scores)\n",
    "\n",
    "probs = [1-(1.0*s)/np.sum(scores) for s in scores]\n",
    "#probs = [exp(np.max(scores) - s) for s in scores]\n",
    "print(probs)\n",
    "print(np.argsort(scores))\n",
    "entitiesForTest3_df.show()"
   ]
  },
  {
   "cell_type": "code",
   "execution_count": null,
   "metadata": {},
   "outputs": [],
   "source": []
  },
  {
   "cell_type": "raw",
   "metadata": {},
   "source": [
    "#grouped_entities_df.show(5)\n",
    "grouped_entities_df.write.parquet(\"hdfs://spark-master:8020/user/lmrd/\"+urlsCollection+\"_\"+orientation+\"_grouped_entities.pq\", mode=\"overwrite\")"
   ]
  },
  {
   "cell_type": "raw",
   "metadata": {},
   "source": [
    "\n",
    "\n",
    "grouped_entities_df = spark.read.parquet(\"hdfs://spark-master:8020/user/lmrd/\"+urlsCollection+\"_\"+orientation+\"_grouped_entities.pq\")\n",
    "\n",
    "grouped_entity_words = grouped_entities_df.select([\"genre\", \"entity\"]).groupBy(\"genre\").agg(collect_list(\"entity\").alias(\"entities\"))\n",
    "grouped_sentiment = grouped_entities_df.select([\"genre\", \"sentiment\"]).groupBy(\"genre\").agg(collect_list(\"sentiment\").alias(\"sentiment\"))\n",
    "#grouped_entity_words.show()\n",
    "#grouped_sentiment.show()"
   ]
  },
  {
   "cell_type": "raw",
   "metadata": {},
   "source": [
    "grouped_sentiment.show()"
   ]
  },
  {
   "cell_type": "raw",
   "metadata": {},
   "source": [
    "from pyspark.ml.feature import CountVectorizer, IDF\n",
    "\n",
    "# remove sentiment info for use by hashingTF/tfif\n",
    "\n",
    "# Load documents (one per line).\n",
    "\n",
    "countVec = CountVectorizer(inputCol=\"entities\", outputCol=\"tf\")\n",
    "cvmodel = countVec.fit(grouped_entity_words)\n",
    "\n",
    "tf = cvmodel.transform(grouped_entity_words)\n",
    "tf.show()\n",
    "#sc.broadcast(hashingTF)\n",
    "\n",
    "# While applying HashingTF only needs a single pass to the data, applying IDF needs two passes:\n",
    "# First to compute the IDF vector and second to scale the term frequencies by IDF.\n",
    "tf.cache()\n",
    "idf = IDF(inputCol=\"tf\", outputCol=\"tfidf\").fit(tf)\n",
    "tfidf = idf.transform(tf)\n",
    "tfidf.show()\n",
    "# spark.mllib's IDF implementation provides an option for ignoring terms\n",
    "# which occur in less than a minimum number of documents.\n",
    "# In such cases, the IDF for these terms is set to 0.\n",
    "# This feature can be used by passing the minDocFreq value to the IDF constructor.\n",
    "# idfIgnore = IDF(minDocFreq=2).fit(tf)\n",
    "# tfidfIgnore = idfIgnore.transform(tf)"
   ]
  },
  {
   "cell_type": "raw",
   "metadata": {},
   "source": [
    "from pyspark.sql import Row\n",
    "from pyspark.sql.functions import explode\n",
    "import numpy as np\n",
    "\n",
    "vocab = tfidf.select([\"genre\", \"tfidf\"])\n",
    "genreVocabs = dict()\n",
    "\n",
    "for genre in vocab.collect():\n",
    "    genreName = genre.genre\n",
    "    \n",
    "    t=genre.tfidf\n",
    "    genreVocabs[genreName] = t\n",
    "    \n",
    "globalVocab = list(cvmodel.vocabulary)\n",
    "    \n",
    "sc.broadcast(globalVocab)\n",
    "sc.broadcast(genreVocabs)\n",
    "\n",
    "def remapEntitiesByTfidf(row):\n",
    "    tfidfMappings = genreVocabs[row.genre]\n",
    "    tfIndex = globalVocab.index(row.entity)\n",
    "    tfidf = tfidfMappings[tfIndex]\n",
    "    \n",
    "    return Row(genre=row.genre, entity=row.entity, tfidf=float(tfidf), vocabIndex=int(tfIndex))\n",
    "    \n",
    "genreCorpora=dict()\n",
    "\n",
    "for genre in genreVocabs.keys():\n",
    "    genreEntities = tfidf.where(tfidf.genre==genre).select(\"genre\", explode(\"entities\").alias(\"entity\"))\n",
    "    \n",
    "    #genreEntities.show()\n",
    "    \n",
    "    #data = genreEntities.rdd.map(remapEntitiesByTfidf)\n",
    "\n",
    "    entitiesByTfidf = spark.createDataFrame(data=genreEntities.rdd.map(remapEntitiesByTfidf), schema=[\"entity\", \"genre\", \"tfidf\", \"vocabIndex\"])\n",
    "    #entitiesByTfidf.show()\n",
    "    entitiesByTfidf = entitiesByTfidf.join(grouped_entities_df, on=[\"genre\", \"entity\"], how=\"inner\" ).groupBy([\"genre\", \"entity\", \"tfidf\", \"vocabIndex\"]).avg(\"sentiment\").sort(\"tfidf\", ascending=False)\n",
    "    \n",
    "    genreCorpora[genre] = entitiesByTfidf\n",
    "    \n"
   ]
  },
  {
   "cell_type": "raw",
   "metadata": {},
   "source": [
    "from pyspark.sql.functions import *\n",
    "\n",
    "for (genreName, corpus) in genreCorpora.items():\n",
    "    print(genreName)\n",
    "    df = corpus.select(col(\"genre\"), col(\"entity\"), col(\"tfidf\"), col(\"vocabIndex\"), col(\"avg(sentiment)\").alias(\"sentiment\"))\n",
    "\n",
    "    df.write.parquet(\"hdfs://spark-master:8020/user/lmrd/\"+genreName+\"_\"+orientation+\"_tfidf.pq\", mode=\"overwrite\")"
   ]
  },
  {
   "cell_type": "raw",
   "metadata": {},
   "source": [
    "genreNames=[\"crime\", \"romance\", \"thriller\", \"adventure\", \"na\", \"drama\", \"war\", \"documentary\", \"reality-tv\", \n",
    "            \"family\", \"fantasy\", \"game-show\", \"adult\", \"history\", \"mystery\", \"musical\", \"animation\", \"music\", \n",
    "            \"film-noir\", \"horror\", \"short\", \"western\", \"biography\", \"comedy\", \"action\", \"sport\", \"talk-show\", \n",
    "            \"sci-fi\", \"news\"]\n",
    "\n",
    "crime_df = spark.read.parquet(\"hdfs://spark-master:8020/user/lmrd/Crime_pos_tfidf.pq\")"
   ]
  },
  {
   "cell_type": "raw",
   "metadata": {},
   "source": [
    "crime_df.show(5)"
   ]
  },
  {
   "cell_type": "raw",
   "metadata": {},
   "source": [
    "crime_df.write.format(\"com.mongodb.spark.sql.DefaultSource\").mode(\"append\").save()"
   ]
  },
  {
   "cell_type": "code",
   "execution_count": 8,
   "metadata": {},
   "outputs": [],
   "source": [
    "import matplotlib.pyplot as plt\n",
    "\n",
    "def solveNorms(m1, m2, std1, std2):\n",
    "    a = 1/(2*std1**2) - 1/(2*std2**2)\n",
    "    b = m2/(std2**2) - m1/(std1**2)\n",
    "    c = m1**2 / (2*std1**2) - m2**2 / (2*std2**2)-np.log(std2/std1)\n",
    "    return np.roots([a, b, c])\n",
    "\n",
    "#m1 = 2.5\n",
    "#std1 = 0.5\n",
    "#m2 = 5.0\n",
    "#std2 = 0.5\n",
    "\n",
    "def getNormOverlap(m1, m2, std1, std2):\n",
    "    if ((std1==0) or (std2==0)):\n",
    "        return 1-abs(m1-m2)    \n",
    "    \n",
    "    result = solveNorms(m1,m2,std1,std2)\n",
    "\n",
    "#    print(result)\n",
    "#    x = np.linspace(-5,9,10000)\n",
    "#    plot1=plt.plot(x,norm.pdf(x,m1,std1))\n",
    "#    plot2=plt.plot(x,norm.pdf(x,m2,std2))\n",
    "#    plot3=plt.plot(result,norm.pdf(result,m1,std1),'o')\n",
    "#\n",
    "#    #Plots integrated area\n",
    "#    r = result[0]\n",
    "#    olap = plt.fill_between(x[x>r], 0, norm.pdf(x[x>r],m1,std1),alpha=0.3)\n",
    "#    olap = plt.fill_between(x[x<r], 0, norm.pdf(x[x<r],m2,std2),alpha=0.3)\n",
    "    # For single samples just take the difference between means\n",
    "\n",
    "    lower=-10\n",
    "    upper=10\n",
    "\n",
    "    # 'lower' and 'upper' represent the lower and upper bounds of the space within which we are computing the overlap\n",
    "    if(len(result)==0): # Completely non-overlapping \n",
    "        overlap = 0.0\n",
    "\n",
    "    elif(len(result)==1): # One point of contact\n",
    "        r = result[0]\n",
    "        if(m1>m2):\n",
    "            tm,ts=m2,std2\n",
    "            m2,std2=m1,std1\n",
    "            m1,std1=tm,ts\n",
    "        if(r<lower): # point of contact is less than the lower boundary. order: r-l-u\n",
    "            overlap = (norm.cdf(upper,m1,std1)-norm.cdf(lower,m1,std1))\n",
    "        elif(r<upper): # point of contact is more than the upper boundary. order: l-u-r\n",
    "            overlap = (norm.cdf(r,m2,std2)-norm.cdf(lower,m2,std2))+(norm.cdf(upper,m1,std1)-norm.cdf(r,m1,std1))\n",
    "        else: # point of contact is within the upper and lower boundaries. order: l-r-u\n",
    "            overlap = (norm.cdf(upper,m2,std2)-norm.cdf(lower,m2,std2))\n",
    "\n",
    "    elif(len(result)==2): # Two points of contact\n",
    "        r1 = result[0]\n",
    "        r2 = result[1]\n",
    "        if(r1>r2):\n",
    "            temp=r2\n",
    "            r2=r1\n",
    "            r1=temp\n",
    "        if(std1>std2):\n",
    "            tm,ts=m2,std2\n",
    "            m2,std2=m1,std1\n",
    "            m1,std1=tm,ts\n",
    "        if(r1<lower):\n",
    "            if(r2<lower):           # order: r1-r2-l-u\n",
    "                overlap = (norm.cdf(upper,m1,std1)-norm.cdf(lower,m1,std1))\n",
    "            elif(r2<upper):         # order: r1-l-r2-u\n",
    "                overlap = (norm.cdf(r2,m2,std2)-norm.cdf(lower,m2,std2))+(norm.cdf(upper,m1,std1)-norm.cdf(r2,m1,std1))\n",
    "            else:                   # order: r1-l-u-r2\n",
    "                overlap = (norm.cdf(upper,m2,std2)-norm.cdf(lower,m2,std2))\n",
    "        elif(r1<upper): \n",
    "            if(r2<upper):         # order: l-r1-r2-u\n",
    "                #print(norm.cdf(r1,m1,std1), \"-\", norm.cdf(lower,m1,std1), \"+\", norm.cdf(r2,m2,std2), \"-\", norm.cdf(r1,m2,std2), \"+\", norm.cdf(upper,m1,std1), \"-\", norm.cdf(r2,m1,std1))\n",
    "                overlap = (norm.cdf(r1,m1,std1)-norm.cdf(lower,m1,std1))+(norm.cdf(r2,m2,std2)-norm.cdf(r1,m2,std2))+(norm.cdf(upper,m1,std1)-norm.cdf(r2,m1,std1))\n",
    "            else:                   # order: l-r1-u-r2\n",
    "                overlap = (norm.cdf(r1,m1,std1)-norm.cdf(lower,m1,std1))+(norm.cdf(upper,m2,std2)-norm.cdf(r1,m2,std2))\n",
    "        else:                       # l-u-r1-r2\n",
    "            overlap = (norm.cdf(upper,m1,std1)-norm.cdf(lower,m1,std1))\n",
    "\n",
    "    return float(overlap)"
   ]
  },
  {
   "cell_type": "code",
   "execution_count": 9,
   "metadata": {},
   "outputs": [
    {
     "data": {
      "text/plain": [
       "0.6170750774519738"
      ]
     },
     "execution_count": 9,
     "metadata": {},
     "output_type": "execute_result"
    }
   ],
   "source": [
    "getNormOverlap(1, 2, 1, 1)"
   ]
  },
  {
   "cell_type": "code",
   "execution_count": 10,
   "metadata": {},
   "outputs": [],
   "source": [
    "history_df = spark.read.parquet(\"hdfs://spark-master:8020/user/lmrd/reviews/History_pos_tfidf2.pq\")"
   ]
  },
  {
   "cell_type": "code",
   "execution_count": 11,
   "metadata": {},
   "outputs": [],
   "source": [
    "comedy_df = spark.read.parquet(\"hdfs://spark-master:8020/user/lmrd/reviews/Comedy_pos_tfidf2.pq\")"
   ]
  },
  {
   "cell_type": "code",
   "execution_count": 14,
   "metadata": {},
   "outputs": [],
   "source": [
    "horror_df = spark.read.parquet(\"hdfs://spark-master:8020/user/lmrd/reviews/Horror_pos_tfidf3.pq\")\n",
    "horror_neg_df = spark.read.parquet(\"hdfs://spark-master:8020/user/lmrd/reviews/Horror_neg_tfidf2.pq\")"
   ]
  },
  {
   "cell_type": "code",
   "execution_count": 15,
   "metadata": {},
   "outputs": [
    {
     "name": "stdout",
     "output_type": "stream",
     "text": [
      "+-----------+-----------+------------------+----------+--------------------+-------------------+\n",
      "|      genre|     entity|             tfidf|vocabIndex|            avg_sent|           std_sent|\n",
      "+-----------+-----------+------------------+----------+--------------------+-------------------+\n",
      "|Documentary|     strike|2.7405504149742894|      2811| -0.2283333494948844|0.29559143777024416|\n",
      "|Documentary|    british| 2.734823351909319|       227|                 0.0|                0.0|\n",
      "|Documentary|       soul| 2.734823351909319|       350|-0.06199999656528234|0.20214915288686097|\n",
      "|Documentary|   reaction| 2.734823351909319|       449|-0.12933333485076826|0.24479765296589476|\n",
      "|Documentary|personality| 2.734823351909319|       286|-0.07199999435494343| 0.2601733520212391|\n",
      "+-----------+-----------+------------------+----------+--------------------+-------------------+\n",
      "only showing top 5 rows\n",
      "\n"
     ]
    }
   ],
   "source": [
    "documentary_df = spark.read.parquet(\"hdfs://spark-master:8020/user/lmrd/reviews/Documentary_pos_tfidf2.pq\")\n",
    "documentary_df.show(5)"
   ]
  },
  {
   "cell_type": "code",
   "execution_count": 16,
   "metadata": {},
   "outputs": [
    {
     "name": "stdout",
     "output_type": "stream",
     "text": [
      "+-------------------+------------+\n",
      "|             entity|   sentiment|\n",
      "+-------------------+------------+\n",
      "|             report|       -0.05|\n",
      "|             family|   -0.251875|\n",
      "|       jr murdershe|-0.080000006|\n",
      "|        shore house|         0.0|\n",
      "|                one|       -0.09|\n",
      "|haunted house story|-0.010000001|\n",
      "|         everything|       -0.18|\n",
      "|         happenings| -0.26000002|\n",
      "|              place|       -0.09|\n",
      "|           thriller| -0.16000001|\n",
      "|               eyes|      -0.045|\n",
      "|                bit|       -0.25|\n",
      "|          trappings|-0.010000001|\n",
      "|       the exorcist| -0.21000001|\n",
      "|   stuart rosenberg|        1.45|\n",
      "|          affection| -0.19500001|\n",
      "|             people|         0.0|\n",
      "|  brandt sponseller|       -0.09|\n",
      "|             angles|        1.05|\n",
      "|             scenes|      -0.155|\n",
      "+-------------------+------------+\n",
      "only showing top 20 rows\n",
      "\n",
      "+--------------+--------------------+--------+\n",
      "|        entity|            avg_sent|std_sent|\n",
      "+--------------+--------------------+--------+\n",
      "|          some|-0.02999999746680...|     0.0|\n",
      "|    television|-0.01000000070780...|     0.0|\n",
      "| mind subtlety|                 0.0|     0.0|\n",
      "|          film|-0.30000001192092896|     0.0|\n",
      "|   perspective|   0.320000022649765|     0.0|\n",
      "|          evil|  -0.809999942779541|     0.0|\n",
      "|          wall|-0.36000001430511475|     0.0|\n",
      "|        greens|                0.25|     0.0|\n",
      "|      get outi|               -0.25|     0.0|\n",
      "|   rod steiger|-0.11000000685453415|     0.0|\n",
      "|        priest|-0.09000000357627869|     0.0|\n",
      "|eating popcorn|-0.09000000357627869|     0.0|\n",
      "|          lack| -0.5199999809265137|     0.0|\n",
      "|           act|-0.04000000283122063|     0.0|\n",
      "| brolin kidder|                 0.0|     0.0|\n",
      "| lalo schifrin|-0.04000000283122063|     0.0|\n",
      "|  ronald defeo|-0.04000000283122063|     0.0|\n",
      "|        length|-0.09000000357627869|     0.0|\n",
      "|          fact|-0.01000000070780...|     0.0|\n",
      "|    happenings| -0.2600000202655792|     0.0|\n",
      "+--------------+--------------------+--------+\n",
      "only showing top 20 rows\n",
      "\n"
     ]
    }
   ],
   "source": [
    "revText=[\"George and Kathy Lutz are looking for a place to anchor down and raise a family The Lutzs and their children Kathys from a previous marriage settle on an impossibly cheap large and beautiful shore house But 28 days later the macabre and scary happenings force them to leaveleaving all their earthly possession behind During the course of those 28 days the family goes through all kinds of hell a room full of flies demonic voices and a pig with glowing red eyes What kind of past does that house have that would make everything horribly wrong Based on a true story  Real or hoax you decide but The Amityville Horror has all the trappings of an excellent haunted house story Too bad that the filmmakers falter a bit with a lack of character development that also ends up stifling the actors in the film that would have helped out immensely A creepy music score the one rejected for The Exorcist and several good setpieces help out but the end of the second act kind of gets stale A good supernatural thriller 48 out of 60 found this helpful Was this review helpful Yes No  Report this  810 Yeah it has problems but I still love it Brandt Sponseller7 April 2005 George James Brolin and Kathleen Lutz Margot Kidder buy a dream house in Amityville New York for a dream price Unfortunately the price was low because just a year before the house was the location of the Ronald DeFeo Jr murdershe killed his entire family while they were sleeping As a priest Father Delaney Rod Steiger blesses the home he realizes with horror that something evil is lingering there The dream house is turning into a nightmare  Sometimes our affection for or aversion to an artwork that weve been exposed to a number of times over the years is inextricably enmeshed with our historical emotional experiences whether we admit this or not For example I strongly dislike soap operas or indeed any dramas that resemble soap operas This is probably due to the fact that for years my only exposure to soap operas was when I was home sick from school as a kid These were the days before cable television and home video In the middle of a weekday afternoon you either watched soap operas or you didnt watch television Subconsciously I associate soap operas with a feeling of illness  Likewise Jay Ansons Amityville Horror novel appeared when I was still a teen I loved it I can still remember reading it in one long sittingsomething I rarely didin the family car as we drove from Florida to Ohio to visit relatives I was excited when the film appeared and liked it a lot at the time  So although I can see many faults with Amityville Horror now I still have a deep affection for it that triggers my brain to go into an apologetic mode and defend the film I just cant bring myself to give it lower than an 8 out of 10 and even that seems low to me But I can easily see how audiences lacking a history with the film might dislike it It is relatively slow uneventful and meanderingwith a modern perspective the pacing and subtlety are reminiscent of some recent Asian horror At the same time maybe paradoxically scenery chewing has only rarely had a greater ally  Just a couple days ago MGM released newly remastered widescreen versions of Amityville 1 2 and 3 I havent seen the film look this good since seeing it in the theater in 1979 and it probably didnt even look this good then The first thing that struck me was how incredible much of the cinematography is Director Stuart Rosenberg had an amazing knack for finding intriguing angles for shots and imbuing them with beautiful colors  Unlike recent trends Rosenbergs colors are not narrowed down to a single scheme For example in some shots such as some of the interiors of the famed Amityville house we get fabulous combinations of pale greens and yellows In others such as many exterior shots near the house we get intense combinations of fall foliage colors There are also a number of beautiful shots of the famed eye window exterior of the house in differently tinted negative colors  Rosenberg evidences a great eye for placing his cast in the frame and shooting scenes to create depth and symbolism via objects that partially block or surround the frame He also has a knack for creating winding receding patterns of objects that enhance depth through perspective My affection for this aspect of the film has little nostalgic attachment as I didnt pay attention to such things as a kid I didnt start noticing them more until I started painting far into my adult years and the positive aspects of the cinematography were hardly discernible on the previous ridiculously bad pan  scan VHS release  Of course most people arent watching a film like this for the aesthetics of the visual composition This is one of the most famous haunted house films after all The horror is handled somewhat awkwardly occasionally absurdly but it still works well enough for me as understated as it is Im not referring to the acting just the horror objects Aspects such as the ubiquitous flies reminded me of similar motifs such as water in Hideo Nakatas horror films such as Ringu 1998 and Dark Water 2002 The beginning of the film showing the Defeo murders still has a lot of shock value despite its relative postTarantino tameness Most of the horror elements are more portentous but theyre regular and interesting enough to hold your attention as long as you dont mind subtlety  Subtlety however was the furthest thing from the casts minds Brolin Kidder and especially Steiger shout their lines more often than they speak them Overacting is not in their vocabularies Kidder comments on an accompanying documentary that the horror genre walks a fine line between intensity and camp That may or may not be true in general but in Amityville Horror camp is frequently broached For me it has a certain charm Im a fan of camp and so bad its good Amityvilles performances often attain both  The commentary on the new DVD is amusing given the 1970s publicity that the book and film depicted a true haunting and the subsequent thorough debunking by persons such as Stephen Kaplan Hans Holzer a parapsychologist who has been involved with the story since the early days and the author of a book upon which Amityville II was based provides the commentary He presents himself as an academic but he obviously seems to have little concern for objectivity or skepticism He not only still talks about the story as true he invents supernatural excuses for the DeFeo murders and then some barely mentioning detractors such as Kaplan  If you havent seen the film yet you should base your viewing decision on whether you have a taste for deliberately paced horror as well as a tolerance for extremely overthetop performances The film is historically important in the genre as well 77 out of 100 found this helpful Was this review helpful Yes No  Report this Bizarre Bad Badly Bizarre Bizarrely Fascinating curtis martin25 October 2004 Warning Spoilers 29 out of 35 found this helpful Was this review helpful Yes No  Report this      610 Nothing great only the eyelike windows were creepy n Brolins performance was good Fellashibby14 May 2017 Saw this on a VHS in the mid 80s Revisited it recently on a DVD To be honest i found the movie to be tedious n tame then Now i jus forwarded some boring scenes The film opens on a dark and stormy night as we hear gunshots and see flashes of light through the homes famous eyelike upstairs windows as an entire family is killed A new family moves in after a year n unsettling things begin to occur Ther are scenes where the walls drip blood Was it blood or tar i dont know Whose blood it was or where it came from was never explained Theres a hidden room in the house the dog always barks at In one scene James Brolin climbs the stairs above that room only to fall through them and into a pit of the same bloodtar Was that suppose to be comedic Also the scene involving Rod Steiger with the flies wasnt scary at all The movie was boring considering the length n nothing happens Somewhere around 0116 Josh Brolin breaks open a wall n his facial expressions n eyes r epic scene man What he sees that makes him so startled we never come to know n we dont get to see also The film is helped by an extremely creepy score composed by Lalo Schifrin n Brolin delivered a good performance Margot Kidder did a decent job 12 out of 13 found this helpful Was this review helpful Yes No  Report this  910 Dated but great seanahalpin17 February 2002 True the special effects arent so special these days True the girl with the braces brings tears of laughter rather than terror But nonetheless this movie remains a creepy gem from my young days Everyone misses the point that the real star of the movie is the house The building is both attractive and sinister  truly gothic in the importance of the setting Whether the story is true or not if you want a movie to snuggle on the couch in the dark eating popcorn feeling the thrill of a ghost story scare this is one for you 58 out of 76 found this helpful Was this review helpful Yes No  Report this  810 Get outindeed SmileysWorld26 April 2002 I was but a timid lad of 14 when taken to a drivein theater to see this incredibly effective horror filmThere is no better monster to create a film around than the Devil himselfWhen Rod Steigers characterFather Delaney is in the process of blessing the houseand was greeted by a resounding shout of Get OutI almost took it literallyit was that effectiveThe Devil is indeed one unwelcome houseguest that is very hard to kick outas you will see when you watch this filmJames Brolin and Margo Kidder head a young family who are the new inhabitants of a home where brutal murders had taken place years beforeSoonstrange happenings begin to haunt the familyas the house has trouble letting go of what had happened thereThis movie is definitely in my top 10 horror films that I have seenand if you enjoy being scared out of your witsthis film will do it for youGive it a look 47 out of 62 found this helpful Was this review helpful Yes No  Report this  810 OLD FASHIONED HORROR richard cavellero16 December 2004 Excited about the remake I decided to go out and just but the original Amityville Horror Being a huge horror buff I just had to and besides I had only seen some of its absurd sequels hearing mixed reviews from friends and critics from terrifying to hilarious I turned it on with my boyfriend at the time and prepared myself for something scary I must say that I was quite impressed And although slightly disappointed in some of the films scenes ultimately I must say this is one old fashioned scary flick I can hugely recognize the appeal it had in its its hey day With the exception of Texas chainsaw Massacre Evil Dead the Omen and some others I rarely see what people did in their horror classics nowadays Like The Exorcist pretty damn boring and funny in my opinion But getting back to this film It builds a creeping mood filled with fright inducing suspense The effects are simple but effective and the performances are somewhat over the top but necessarily wacky The films overall lasting appeal has little to do with the films apparent campiness it has more to do with the real terror inducing legend that inspired it Like the Chainsaw remake the new ones looks to amp up the horror and intensity which would be greatly welcomed Although a great horror classic Amityvilles finale is somewhat anti climactic and after a long and impressively scary buildup it fails to deliver the end goods But whoa some of the scenes from the imaginary friend Jody flying out the window to the visitor at the door to the voice in the house and just everything in the basement this film is all about delivering some authentic chills 810777\"]\n",
    "\n",
    "#revText=[\"Though it has somehow or other managed to escape all the standard reference books, this film is a real and unheralded discovery--a visually distinguished and absorbing Gothic thriller, halfway between Bava country and the Mexican gothics like The Witch's Mirror.Blancheville Monster where have you been hiding? Right off the bat, we are treated to a deliciously evocative visual opening--a wintry, bare tree ridden country road, awash with an icy looking rain, beyond which stands the distant castle on the mountain.Ann Radcliffe would be well pleased! And the film keeps on delivering: two attractive female leads, a mysterious and scarred man locked in a tower room, frequent thunder and lightning, and all the necessary accoutrements of remote castle Gothic, from flickering torches to doleful turns on the family harpsichord.The countryside in which the film is shot has the desolate beauty of a November day, and strongly suggests the Brittany in which the film is set, (though not shot). In this sense, some of the landscapes resemble those in Bresson's Diary of a Country Priest. Devotees of the genre are herewith advised to seek this out. It's far more deserving than some of its over-hyped relatives.\",\n",
    "#\"The opening sequences show both titles (Horror and The Blancheville Monster) neatly after each other, as if the distributors couldn't really decide which of the two was better and/or more appropriate. They should have just called it The Blancheville Horror... Problem solved! Anyway, that was totally irrelevant. I'm more and more becoming a fan of director Alberto De Martino! He's been making good horror movies consistently from the early 60's until the mid 80's, yet he never received the respect and appreciation that other Italian directors did. This stylish and severely underrated picture came out alongside loads of other Gothic horror movies and, although not as brilliant as, say, Black Sunday or Kill Babyn Kill, it's a hugely atmospheric and powerfully compelling chill-tale with an overall decent script and convincing set pieces. Only a couple of days prior to her 21st birthday, a beautiful girl travels back to her wealthy father's castle, accompanied by her new lover and best friend. Upon arrival, her brother informs her about the tragic incident that supposedly killed her father and how he got madly obsessed with the legend of the Blancheville family curse. But the new arrivals notice that there are a lot more strange things going on. Why have all the servants been replaced? Why is the brother so nervous about the girl's upcoming birthday? And, most of all, who or what produces those creepy screams at night in the castle's darkest tower? The Blancheville Monster offers pretty much all the elements you're looking for in good Gothic horror, including eerie thunderstorms, scary black-caped monsters, ominous vaults and tight costumes that supply the female cast members with impressive cleavage. De Martino does a great directing job, spreading the suspense equally throughout the whole film and the finale albeit not too hard to predict  is formidably tense. Unlike any of Mario Bava's Gothic horror movies, The Blancheville Monster will not haunt your nightmares, but for fans of classic horror it's definitely worth seeing.17 out of 19 found this helpful. Somewhat slow, short on horror, but eerie.\",\n",
    "#\"This pretty good Corman-styled quasi-Poe entry complete with Vincent Price lookalike, and red herrings, is a little too plodding for it's own good and needs some more frequent and stronger moments of horror to make it to the very good level. The same can be said of the Corman-Poe films and such, yet they had great indelible scare moments, fabulous art direction in color and Vincent Price to keep them interesting. This looks like a late night spook show staple from the 60s and 70s, and is fine as such, except I saw it without commercials. I kept thinking it would be better if I'd watched it on an old B&W 20 portable TV on a wire-rack TV stand with potato chips and soda, and a chair with lumpy cushion on a chilly and windy October night just to get into the period.\",\n",
    "#\"I sought out this little gem after reading about it in Tim Lucas' bio of Mario Bava. Lucas believes the effects in this 1962 b/w strongly resemble Bava's technical flourishes. I sought out this title for this reason, but also because I collect films of the era containing the word 'monster' in the title. I also have a growing appreciation for Gothic Italian horror and mystery. After snapping it up on Amazon for about five bucks including postage, I am pleased to announce that it was well worth my time and effort.There is a lot to like about this movie, including an eerie score and loads of captivating locations and sets; the crumbling abbey is reminiscent of Universal's Dracula but much more realistic and effectively photographed. Moments of the film seem over the top, and overcooked, but it stands up well for its time overall. This is especially desirable to those of us who recall the old Shock Theatre days of television, and enjoy Italian Gothic horror of the 60s.\",\n",
    "#\"I had no idea what to expect from this one, but it turned out to be Italy's response to the Roger Corman Edgar Allan Poe films, and it's actually pretty good.In late 19th century northern France, lovely Emily De Blancheville returns to her ancestral home from finishing school to find that her brother has sacked the entire staff and all the new servants are creepy. Worse yet, her father  whom she had believed to be killed in a fire  is actually alive but hideously burned and criminally insane, and locked up in the tower. Her brother explains that there is a curse on the De Blancheville line, and their father believes that the curse can only be broken if Emily dies before her 21st birthday, which is coming up so close that they've already got the castle bedecked with festive balloons. Well, to make 89 minutes short, the father escapes and pretty soon Emily is in for a bad time of it.What I liked about this film: It's produced by Llama Films, which has to make a person smile. The leading ladies are all lovely, and Emily's little peekaboo nightie is extremely flattering (yeah, yeah, I know, men are pigs. Oink, oink). The location and sets are amazing, with real castles and genuine ruins (it's so cold, even indoors, that you can constantly see the actors' breath). The monster's makeup seems to be some kind of Kharis mask, Italian style. The dialog is priceless, if a tad wordy (You will follow me, Emily. To your tomb. To your death. To die. To die. To die. To die). Have I mentioned it was produced by Llama Films? Oh, and the brother (Roderick, what else) is played by a guy who looks like Vincent Price. At least, in the context of this film. There are a lot of other shenanigans, with a doctor who is not what he appears, a housekeeper who is exactly what she appears, a premature burial, et al, but I don't like to give away too much of the plot. Sometimes, you have to just let the film run its course and try not to think about what it all means for months, or even years.\",\n",
    "#\"The Blancheville Monster is a decent Italian Gothic entry. It's true that it is a little plodding and uneventful, however, it's occasionally eerie and stylish. The story is about a badly disfigured count who visits his daughter by night, attempting to induce her into committing suicide to revoke an old family curse. Frankly, the story is absolutely ridiculous, I mean couldn't the count just kill his daughter rather than embark on his moonlit walks with her to the family mausoleum? Well, yes, however, these spooky encounters do actually provide the film with its best Gothic imagery. These scenes, set in the dead of night, with the sleepwalking daughter being followed a few paces behind by the black-clad, monstrous count through the ruins to the family tomb, are very striking. So really, plot inconsistencies have to be weighed against this. Although I do have a little problem with the final confrontation where the daughter escapes from her entombed situation without even a hint of how this came to be. Nevertheless, these observations aside, The Blancheville Monster is not bad. The location is well used and there is some decent photography to accentuate this. If you are a fan of 60's Italian Gothic then it's really one to check out.\",\n",
    "#\"A young, beautiful blonde, her best friend from college with her brother and an admirer of her blonde beauty reach home, the stately residence of the famed and fabled Blachevilles. Upon arriving there, we meet the brother Roderick, a scary looking housekeeper that seems to possess a station way above her ranks, and a doctor that oozes something not closely related to charm. It seems that all the old servants have been let go and that the patriarch - the father- has recently died - or not? I liked this film for several reasons. If nothing else it has atmosphere. The castle used is an impressive set. The black and white cinematography accentuates the rooms of the castle, a huge family tomb, grounds swirling with fog, and a lot more. We have a huge organ being grinded out in a few scenes in classic horror classic fashion(say that fast five times). The story and the monster are nothing fantastic at all, but the film works because the artful direction is able to build suspense. Now, if you are the type of viewer that needs a lot of action, then you really must stay away as this film is more talking and all red herrings(in what turns out to be a not all that clever mystery of who is the Blancheville monster). There is some rather preposterous story about an ancient curse on the family that will die off when the last female(?) descendant turns 21 - utter rubbish. But it is incidental when one looks at the way the film was filmed, and the pace slowly creeps up from slower to slow and then finally fast at the end in the revelation of what has lain cloaked the whole time. This was an Italian production with lots of Spanish influence(much of the cast is Spanish). The actors are all decent and able to make you believe in them at times. This is by no means a great horror film, but it, as other reviewers have noted, is in the same vein as a Roger Corman movie of the same period or a black and white Hammer film. This is the Euro version with no big stars but a decent story and lots of mood.\",\n",
    "#\"A list of the neat elements of the film a.k.a.  Horror , a.k.a. The Blanchville Monster,...1. It's Italian, 2. black and white, 3. Horror sneakily appears as an occult film but really a psychological horror film, and 4. the ultra-creepy background music. I watched this movie when I was a 10-year old watching it on shock theater late Saturday night. There are a few boring parts and some parts that should never been put into the film, such as Rodrigues playing the keyboards. But I'm a little prejudiced on bragging on this movie because I've never seen an Italian horror film I didn't like ( Black Sunday, Black Sabbath, Suspiria, Inferno, etc. ).\",\n",
    "#\"There are no vampires, witches or ghosts, but the horror in this genuinely creepy Italian grande guignol are impossible to deny. Better than many others of the same themes, this is still equally chilling, only missing the presence of Barbara Steele, even though there is a role in this that seems to have been written for her.Every element that makes films of this type so intriguing is there, and while it is said to have been influenced by the stories of Edgar Allan Poe, there is enough in it to make it seem fresh and filled with its own ideas. An old family curse is said to be out to kill the daughter of a recently deceased count. Allegedly, her surviving past the age of 21 will end their reign, so her father is rumored to still be alive and determined to kill her. While it was pretty obvious to me what was going on, it is fun watching everything unfold. The blonde girls are the heroines, while the beautiful brunette housekeeper is assumed to be evil. This is one worth re-watching, a rare quality of the many films in this genre which are often too laughable to believe.\",\n",
    "#\"Slow moving Italian Gothic, heavily influenced by the Corman/Poe cycle\",\n",
    "#\"Italian cinema has a long history of ripping off successful movies and this Italian/Spanish co-production is no exception. Cashing in on the success of Roger Corman's Edgar Allan Poe movies with Vincent Price, this movie – purporting to be from Poe himself – relies heavily on the plot ingredients and atmosphere found in the Corman flicks. The setting is an old dark castle, the plot involves genetic madness and disfiguration, and everything that goes on is steeped in mystery and suspense. There's even a supporting character, the doctor, who's been made up to look a lot like Vincent price! Sadly, as with most rip-offs, THE BLANCHEVILLE MONSTER is an inferior product and it lacks the genuine originality found in other Italian Gothic movies from the same period: CASTLE OF BLOOD, TERROR OF DR HICHCOCK, BLACK Sunday are just a few I could name. That's why you'll almost never hear this film mentioned in the same breath as the others. The main problem is that BLANCHEVILLE tries too hard, and the stodgy script doesn't help. When it tries to be scary, it ends up being boring, and there just isn't enough of the slim storyline to pad out a whole movie, even with the crew's best efforts.The film does boast some fine moments, and these are mainly down to director Albert De Martino, a mainstay of the genre for a good 20/30 years. Scenes of the heroine being pursued through a dead wood by a deformed killer are superbly creepy, and the whole buried alive aspect of the plot is handled effectively – it's just a shame it takes an hour and ten minutes to get there! The cast can't be faulted, either, with a very good turn from Gerard Tichy in the Vincent Price role – the sinister older brother who has dark secrets of his own. Okay, so Ombretta Colli isn't much of an actress, but she's pretty and in a visual film like this that counts for something. I have to say that I preferred Helga Line (HORROR EXPRESS), here appearing in an early role as a scheming villainess. With good black-and-white visuals and some great scare scenes, THE BLANCHEVILLE MONSTER could have been up there with the other films of this period. Instead, it's a merely adequate flick that might well be just too damned slow for modern tastes.\",\n",
    "#\"This film and a lot of the cast were unfamiliar to me, and I'm a horror fanatic, so I assume that most of you never heard of it. It is reminiscent of other Gothic horror films, but I say that in the best of terms. The settings are cold and sterile which adds to the creepiness. It starts off a little slow with Emily returning from school, but it's kind of cool because everyone else is acting so weird and you only know as much as she does. Keeping the viewer in the dark as to what is going on, puts you into the lead character's position. Then, when you think the strangeness has been explained, suddenly the cast starts acting odd again. You are never put at ease for the heroine's safety and everything about the ending was pretty surprising. Suspenseful horror movies, and old Twilight Zone episodes, can be fun to watch when you don't know why everyone is acting so strange. You and perhaps the lead character are the only ones who aren't in on the joke or riddle or curse in the case of the Blancheville Monster.\"]\n",
    "revTextRdd = sc.parallelize(revText)\n",
    "\n",
    "#entitiesForTest = revTextRdd.flatMap(extractEntitiesSetimentForReview)\n",
    "entitiesForTest = revTextRdd.flatMap(extractEntitiesSetimentForReview)\n",
    "\n",
    "entitiesForTest.cache()\n",
    "\n",
    "entitiesForTest2 = entitiesForTest.reduceByKey(lambda x,y: (x+y)/2, 5)\n",
    "\n",
    "schema1 = StructType(\n",
    "                [StructField(\"entity\", StringType(), False), \n",
    "                 StructField(\"sentiment\", FloatType(), False)])\n",
    "\n",
    "entitiesForTest_df = spark.createDataFrame(entitiesForTest2, schema=schema1)\n",
    "\n",
    "entitiesForTest_df.show()\n",
    "\n",
    "entitiesForTest_df.registerTempTable(\"df\")\n",
    "entitiesForTest_df = spark.sql(\"select ltrim(rtrim(entity)) as entity, avg(sentiment) as avg_sent, stddev(sentiment) as std_sent from df group by entity\")\n",
    "\n",
    "entitiesForTest_df = entitiesForTest_df.withColumn(\"std_sent\", functions.when(functions.isnan(entitiesForTest_df.std_sent)==True, 0).otherwise(entitiesForTest_df.std_sent))\n",
    "\n",
    "\n",
    "#entitiesForTest_df = entitiesForTest_df.agg(collect_set('tentity').alias('entities')).crossJoin(entitiesForTest_df.agg(collect_set(\"avg_sent\").alias(\"avg_sent\"), collect_set(\"std_sent\").alias(\"std_sent\")))\n",
    "\n",
    "\n",
    "#entitiesForTest2_df = entitiesForTest_df.groupBy(\"entity\").agg(functions.avg(\"sentiment\").alias(\"avg_sent\"), functions.stddev(\"sentiment\").alias(\"std_sent\"))\n",
    "#entitiesForTest2_df = entitiesForTest_df.agg(collect_set('entity').alias('entities'), collect_set(\"avg_sent\"))\n",
    "\n",
    "entitiesForTest_df.show()"
   ]
  },
  {
   "cell_type": "code",
   "execution_count": 17,
   "metadata": {},
   "outputs": [],
   "source": [
    "sim_udf = udf(getNormOverlap, FloatType())"
   ]
  },
  {
   "cell_type": "code",
   "execution_count": 18,
   "metadata": {},
   "outputs": [],
   "source": [
    "def computeEntitySentimentSimilarity(trained_df, test_df):\n",
    "    j = test_df.select(col(\"entity\"), col(\"avg_sent\").alias(\"tst_avg_sent\"), \n",
    "                                  col(\"std_sent\").alias('tst_std_sent')).join(trained_df, test_df.entity==trained_df.entity)\n",
    "    j = j.withColumn(\"similarity\", sim_udf(j.avg_sent, j.tst_avg_sent, j.std_sent, j.tst_std_sent)).orderBy(\"tfidf\", ascending=False)\n",
    "\n",
    "    return j"
   ]
  },
  {
   "cell_type": "code",
   "execution_count": 19,
   "metadata": {},
   "outputs": [
    {
     "name": "stdout",
     "output_type": "stream",
     "text": [
      "+-----------+--------------------+------------+------+-----------+------------------+----------+--------------------+-------------------+--------------------+----------+\n",
      "|     entity|        tst_avg_sent|tst_std_sent| genre|     entity|             tfidf|vocabIndex|            avg_sent|           std_sent|           sent_hist|similarity|\n",
      "+-----------+--------------------+------------+------+-----------+------------------+----------+--------------------+-------------------+--------------------+----------+\n",
      "|  nightmare|-0.04000000283122063|         0.0|Horror|  nightmare|13.956971773672775|       594|-0.30222222360057965| 0.2948411625946721|[0.0,0.0,0.0,0.0,...|0.73777777|\n",
      "|   haunting|                 0.0|         0.0|Horror|   haunting| 6.414035123119086|      4623|  0.4028571333203997| 0.6113022730514908|[0.0,0.0,0.0,0.0,...| 0.5971429|\n",
      "|        job|  0.4899999797344208|         0.0|Horror|        job|3.8647768910276814|        32|  0.4757017326426872| 0.4329891134295431|[0.0,0.0,0.0,0.0,...|0.98570174|\n",
      "|    illness|-0.36000001430511475|         0.0|Horror|    illness|1.0033021088637848|      6966|  -0.809999942779541|                0.0|[0.0,0.0,0.0,0.0,...| 0.5500001|\n",
      "|composition|                 0.0|         0.0|Horror|composition|0.9304647849115184|      1483|  0.3333333532015483|0.32083227332464465|[0.0,0.0,0.0,0.0,...| 0.6666666|\n",
      "| overacting|                 0.0|         0.0|Horror| overacting|0.9135168049914298|      2730|-0.32499996572732925| 0.6858935452978777|[0.0,0.0,0.0,0.0,...|     0.675|\n",
      "|        pan|                 0.0|         0.0|Horror|        pan|0.6286086594223741|      4006|  -0.550000011920929|                0.0|[0.0,0.0,0.0,0.0,...|      0.45|\n",
      "|   marriage|-0.09000000357627869|         0.0|Horror|   marriage|0.2657031657330057|       310|  -0.809999942779541|                0.0|[0.0,0.0,0.0,0.0,...|0.28000006|\n",
      "+-----------+--------------------+------------+------+-----------+------------------+----------+--------------------+-------------------+--------------------+----------+\n",
      "\n",
      "+-------------+--------------------+------------+------+-------------+------------------+----------+--------------------+-------------------+----------+\n",
      "|       entity|        tst_avg_sent|tst_std_sent| genre|       entity|             tfidf|vocabIndex|            avg_sent|           std_sent|similarity|\n",
      "+-------------+--------------------+------------+------+-------------+------------------+----------+--------------------+-------------------+----------+\n",
      "|         ther|-0.09000000357627869|         0.0|Horror|         ther|  2.70805020110221|     12213| 0.36000001430511475|0.36000001430511475|0.54999995|\n",
      "|    tolerance|                 0.0|         0.0|Horror|    tolerance|  2.70805020110221|      9936| -0.4249999728053808| 0.5444721790506917|0.57500005|\n",
      "|          tar|               -0.25|         0.0|Horror|          tar| 2.302585092994046|      9402|  -0.809999942779541|  0.809999942779541|0.44000006|\n",
      "|margot kidder|-0.48000001907348633|         0.0|Horror|margot kidder|2.0149030205422647|      3433|-0.41999998688697815|0.41999998688697815|0.93999994|\n",
      "|    publicity|                 0.0|         0.0|Horror|    publicity|2.0149030205422647|      4045|   0.699999988079071| 0.9899494768024272|       0.3|\n",
      "|     marriage|-0.09000000357627869|         0.0|Horror|     marriage|2.0149030205422647|      3329| -0.3577777806462513| 0.4775661667296563| 0.7322222|\n",
      "|        shout|               -0.25|         0.0|Horror|        shout|1.6094379124341003|      1394|   -0.64000004529953|   0.64000004529953|0.60999995|\n",
      "|       pacing| 0.36000001430511475|         0.0|Horror|       pacing|0.7621400520468967|        51| -0.4687233820280179| 0.4417141077522779| 0.1712766|\n",
      "|    nightmare|-0.04000000283122063|         0.0|Horror|    nightmare|0.3566749439387324|         5|   -0.33171428080116| 0.3246044142306526|0.70828575|\n",
      "+-------------+--------------------+------------+------+-------------+------------------+----------+--------------------+-------------------+----------+\n",
      "\n"
     ]
    },
    {
     "ename": "AttributeError",
     "evalue": "'NoneType' object has no attribute 'withColumn'",
     "output_type": "error",
     "traceback": [
      "\u001b[0;31m---------------------------------------------------------------------------\u001b[0m",
      "\u001b[0;31mAttributeError\u001b[0m                            Traceback (most recent call last)",
      "\u001b[0;32m<ipython-input-19-9caa20b3d8e7>\u001b[0m in \u001b[0;36m<module>\u001b[0;34m()\u001b[0m\n\u001b[1;32m      2\u001b[0m \u001b[0mneg_sim_df\u001b[0m \u001b[0;34m=\u001b[0m \u001b[0mcomputeEntitySentimentSimilarity\u001b[0m\u001b[0;34m(\u001b[0m\u001b[0mhorror_neg_df\u001b[0m\u001b[0;34m,\u001b[0m \u001b[0mentitiesForTest_df\u001b[0m\u001b[0;34m)\u001b[0m\u001b[0;34m.\u001b[0m\u001b[0mshow\u001b[0m\u001b[0;34m(\u001b[0m\u001b[0;36m100\u001b[0m\u001b[0;34m)\u001b[0m\u001b[0;34m\u001b[0m\u001b[0m\n\u001b[1;32m      3\u001b[0m \u001b[0;34m\u001b[0m\u001b[0m\n\u001b[0;32m----> 4\u001b[0;31m \u001b[0mpos_sim_df\u001b[0m\u001b[0;34m.\u001b[0m\u001b[0mwithColumn\u001b[0m\u001b[0;34m(\u001b[0m\u001b[0;34m\"scaled_sim\"\u001b[0m\u001b[0;34m,\u001b[0m \u001b[0mpos_sim_df\u001b[0m\u001b[0;34m.\u001b[0m\u001b[0msimilarity\u001b[0m\u001b[0;34m*\u001b[0m\u001b[0mpos_sim_df\u001b[0m\u001b[0;34m)\u001b[0m\u001b[0;34m\u001b[0m\u001b[0m\n\u001b[0m",
      "\u001b[0;31mAttributeError\u001b[0m: 'NoneType' object has no attribute 'withColumn'"
     ]
    }
   ],
   "source": [
    "pos_sim_df = computeEntitySentimentSimilarity(horror_df, entitiesForTest_df).show(100)\n",
    "neg_sim_df = computeEntitySentimentSimilarity(horror_neg_df, entitiesForTest_df).show(100)\n",
    "\n",
    "pos_sim_df.withColumn(\"scaled_sim\", pos_sim_df.similarity*pos_sim_df)"
   ]
  },
  {
   "cell_type": "code",
   "execution_count": 139,
   "metadata": {},
   "outputs": [
    {
     "name": "stdout",
     "output_type": "stream",
     "text": [
      "+-----------+-------------------+------------+-------+-----------+------------------+----------+-------------------+------------------+-----------+\n",
      "|     entity|       tst_avg_sent|tst_std_sent|  genre|     entity|             tfidf|vocabIndex|           avg_sent|          std_sent| similarity|\n",
      "+-----------+-------------------+------------+-------+-----------+------------------+----------+-------------------+------------------+-----------+\n",
      "|      price|-0.1600000113248825|         0.0|History|      price|  2.70805020110221|      8369|-0.4049999713897705| 0.572756452300129| 0.24499996|\n",
      "|        mgm| 0.1600000113248825|         0.0|History|        mgm|  2.70805020110221|      9711|-0.5400000214576721|0.5400000214576721| 0.70000005|\n",
      "|composition|                0.0|         0.0|History|composition| 1.455287232606842|       448|0.35999998450279236|0.5977457375045399| 0.35999998|\n",
      "|        job| 0.4899999797344208|         0.0|History|        job|0.1823215567939546|         0|0.44066664680528145|0.4380614469335789|0.049333334|\n",
      "+-----------+-------------------+------------+-------+-----------+------------------+----------+-------------------+------------------+-----------+\n",
      "\n"
     ]
    }
   ],
   "source": [
    "computeEntitySentimentSimilarity(history_df, entitiesForTest_df).show(100)"
   ]
  },
  {
   "cell_type": "code",
   "execution_count": 107,
   "metadata": {},
   "outputs": [
    {
     "name": "stdout",
     "output_type": "stream",
     "text": [
      "+----------+--------------------+------------+------+----------+------------------+----------+--------------------+-------------------+----------+\n",
      "|    entity|        tst_avg_sent|tst_std_sent| genre|    entity|             tfidf|vocabIndex|            avg_sent|           std_sent|similarity|\n",
      "+----------+--------------------+------------+------+----------+------------------+----------+--------------------+-------------------+----------+\n",
      "|  haunting|                 0.0|         1.0|Comedy|  haunting| 1.791759469228055|      1698|   0.809999942779541|  0.809999942779541| 0.6459616|\n",
      "|skepticism|                 0.0|         1.0|Comedy|skepticism|1.6094379124341003|      1063|-0.48499997705221176| 0.4596193593023801| 0.5825295|\n",
      "|     shout|               -0.25|         1.0|Comedy|     shout|1.0986122886681098|       135|   -0.64000004529953|   0.64000004529953|0.73166984|\n",
      "| nightmare|-0.04000000283122063|         1.0|Comedy| nightmare|0.5679840376059393|        13| -0.4426086815074086|0.40170336370048704|0.54965395|\n",
      "|       job|  0.4899999797344208|         1.0|Comedy|       job|0.1823215567939546|         0| 0.38762710047502424|0.42288556512398134|0.60472435|\n",
      "+----------+--------------------+------------+------+----------+------------------+----------+--------------------+-------------------+----------+\n",
      "\n"
     ]
    }
   ],
   "source": [
    "computeEntitySentimentSimilarity(comedy_df, entitiesForTest_df).show(100)"
   ]
  },
  {
   "cell_type": "code",
   "execution_count": 140,
   "metadata": {},
   "outputs": [
    {
     "name": "stdout",
     "output_type": "stream",
     "text": [
      "+--------------+--------------------+------------+-----------+--------------+------------------+----------+-------------------+-------------------+-----------+\n",
      "|        entity|        tst_avg_sent|tst_std_sent|      genre|        entity|             tfidf|vocabIndex|           avg_sent|           std_sent| similarity|\n",
      "+--------------+--------------------+------------+-----------+--------------+------------------+----------+-------------------+-------------------+-----------+\n",
      "|          evil|  -0.809999942779541|         0.0|Documentary|          evil|  2.70805020110221|      8845|-0.3774999901652336| 0.3089093437387237| 0.43249995|\n",
      "|cinematography| 0.18000000715255737|         0.0|Documentary|cinematography|1.6094379124341003|       920|  0.312727262604643| 0.5241581685669622| 0.13272725|\n",
      "|       buildup|-0.04000000283122063|         0.0|Documentary|       buildup|1.6094379124341003|      1067|  0.809999942779541|  0.809999942779541| 0.84999996|\n",
      "|     nightmare|-0.04000000283122063|         0.0|Documentary|     nightmare|0.5679840376059393|        13|-0.4699999988079071| 0.3038639894993867|       0.43|\n",
      "|           job|  0.4899999797344208|         0.0|Documentary|           job|0.1823215567939546|         0| 0.4569696753257603|0.39200990187793927|0.033030305|\n",
      "+--------------+--------------------+------------+-----------+--------------+------------------+----------+-------------------+-------------------+-----------+\n",
      "\n"
     ]
    }
   ],
   "source": [
    "computeEntitySentimentSimilarity(documentary_df, entitiesForTest_df).show(100)"
   ]
  },
  {
   "cell_type": "code",
   "execution_count": 142,
   "metadata": {},
   "outputs": [
    {
     "name": "stdout",
     "output_type": "stream",
     "text": [
      "+------+--------------------+-----------------+----------+--------------------+-------------------+\n",
      "| genre|              entity|            tfidf|vocabIndex|            avg_sent|           std_sent|\n",
      "+------+--------------------+-----------------+----------+--------------------+-------------------+\n",
      "|Comedy|              trogar|2.302585092994046|      5456|  -1.619999885559082|  1.619999885559082|\n",
      "|Comedy|      kung fu master|2.302585092994046|      7326| -0.7200000286102295| 0.7200000286102295|\n",
      "|Comedy|   la teta y la luna|2.302585092994046|      6889|  0.5100000500679016| 0.5100000500679016|\n",
      "|Comedy|       house painter|2.302585092994046|      7645|    0.64000004529953|   0.64000004529953|\n",
      "|Comedy|               tread|2.302585092994046|      5864|-0.36000001430511475|0.36000001430511475|\n",
      "|Comedy|      celeste talbot|2.302585092994046|      5461| -0.5400000214576721| 0.5400000214576721|\n",
      "|Comedy|  genius performance|2.302585092994046|      5855|                 0.5|                0.5|\n",
      "|Comedy|        match animal|2.302585092994046|      8099|    0.64000004529953|   0.64000004529953|\n",
      "|Comedy|                mist|2.302585092994046|      5411|  -0.320000022649765| 0.4525483719909953|\n",
      "|Comedy|           simpleton|2.302585092994046|      6189| -0.4049999713897705|  0.572756452300129|\n",
      "|Comedy|           stuttgart|2.302585092994046|      5910|                -0.5|                0.5|\n",
      "|Comedy|               midge|2.302585092994046|      8170|  -0.523333314495782|0.44557077615884577|\n",
      "|Comedy|        actingdialog|2.302585092994046|      7076|  -0.809999942779541|  0.809999942779541|\n",
      "|Comedy|             machete|2.302585092994046|      6109| -0.4899999797344208| 0.4899999797344208|\n",
      "|Comedy|    arrangement iron|2.302585092994046|      5792| 0.36000001430511475|0.36000001430511475|\n",
      "|Comedy|     system security|2.302585092994046|      6289|-0.36000001430511475|0.36000001430511475|\n",
      "|Comedy|            roadmovy|2.302585092994046|      7562| -0.4899999797344208| 0.4899999797344208|\n",
      "|Comedy|           crime gem|2.302585092994046|      6381|   -1.28000009059906|   1.28000009059906|\n",
      "|Comedy|          bob dolman|2.302585092994046|      6678|  0.6800000071525574| 0.6800000071525574|\n",
      "|Comedy|               mimic|2.302585092994046|      6400|    0.64000004529953|   0.64000004529953|\n",
      "|Comedy|            sex romp|2.302585092994046|      8130|-0.41499997209757566| 0.5586143156754103|\n",
      "|Comedy|        society girl|2.302585092994046|      6261| -2.6100001335144043| 2.6100001335144043|\n",
      "|Comedy|             oversea|2.302585092994046|      6034| 0.36000001430511475|0.36000001430511475|\n",
      "|Comedy|               pacer|2.302585092994046|      7833|  -0.809999942779541|  0.809999942779541|\n",
      "|Comedy|          girl guide|2.302585092994046|      6247|  -0.809999942779541|  0.809999942779541|\n",
      "|Comedy|    it had to be you|2.302585092994046|      8053|  0.3650000146590173| 0.5020458343724422|\n",
      "|Comedy|         keven kline|2.302585092994046|      7998| -0.7599999904632568| 0.7599999904632568|\n",
      "|Comedy|               rusty|2.302585092994046|      6959|   0.550000011920929|  0.550000011920929|\n",
      "|Comedy|         credit card|2.302585092994046|      6963| -0.4099999717436731| 0.5656853839877696|\n",
      "|Comedy|         hall patrol|2.302585092994046|      6924|   -0.64000004529953|   0.64000004529953|\n",
      "|Comedy|     human situation|2.302585092994046|      6058|  0.3849999699741602| 0.6010407255495661|\n",
      "|Comedy|murder at the vanity|2.302585092994046|      6129|-0.35999998450279236|0.35999998450279236|\n",
      "|Comedy|      obscence movie|2.302585092994046|      8127|  -0.809999942779541|  0.809999942779541|\n",
      "|Comedy|      angelena jolie|2.302585092994046|      6640|   0.809999942779541|  0.809999942779541|\n",
      "|Comedy|         hubert down|2.302585092994046|      5429| -0.9799999594688416| 0.9799999594688416|\n",
      "|Comedy|       soulsearching|2.302585092994046|      6953|    0.64000004529953|   0.64000004529953|\n",
      "|Comedy|              spider|2.302585092994046|      8222|  -0.809999942779541|  0.809999942779541|\n",
      "|Comedy|           human way|2.302585092994046|      6370|-0.36000001430511475|0.36000001430511475|\n",
      "|Comedy|        lucia sexlet|2.302585092994046|      6292|    0.64000004529953|   0.64000004529953|\n",
      "|Comedy|    pawn shop number|2.302585092994046|      7565| 0.30000001192092896|0.30000001192092896|\n",
      "|Comedy|          silk frock|2.302585092994046|      6123|   0.809999942779541|  0.809999942779541|\n",
      "|Comedy|       tv soap actor|2.302585092994046|      6121| -0.4049999713897705|  0.572756452300129|\n",
      "|Comedy|          selfparody|2.302585092994046|      7110| -0.3849999699741602| 0.6010407255495661|\n",
      "|Comedy|             trainer|2.302585092994046|      7947| -0.5199999809265137| 0.5199999809265137|\n",
      "|Comedy|        carole lynne|2.302585092994046|      8158| 0.36000001430511475|0.36000001430511475|\n",
      "|Comedy|         comedy type|2.302585092994046|      6226|  -0.809999942779541|  0.809999942779541|\n",
      "|Comedy|adventures in bab...|2.302585092994046|      5653|    0.64000004529953|   0.64000004529953|\n",
      "|Comedy|             hamburg|2.302585092994046|      6577|   -0.64000004529953|   0.64000004529953|\n",
      "|Comedy|        headoverheel|2.302585092994046|      5469|  -0.809999942779541|  0.809999942779541|\n",
      "|Comedy|     souler opposite|2.302585092994046|      6248| 0.34333331634600955| 0.6171979432119834|\n",
      "|Comedy|            cameoing|2.302585092994046|      7724|-0.36000001430511475|0.36000001430511475|\n",
      "|Comedy|             sumthin|2.302585092994046|      6385| -0.4899999797344208| 0.4899999797344208|\n",
      "|Comedy|go luck drunken m...|2.302585092994046|      5871|  -0.809999942779541|  0.809999942779541|\n",
      "|Comedy|         betsy drake|2.302585092994046|      6879|                0.75|               0.75|\n",
      "|Comedy|       editing style|2.302585092994046|      7425|   0.320000022649765|  0.320000022649765|\n",
      "|Comedy|          strausmann|2.302585092994046|      6731|-0.35999998450279236|0.35999998450279236|\n",
      "|Comedy|       physics geniu|2.302585092994046|      5577|  -0.809999942779541|  0.809999942779541|\n",
      "|Comedy|                jink|2.302585092994046|      6785|  0.4899999797344208| 0.4899999797344208|\n",
      "|Comedy|       bob spinnaker|2.302585092994046|      6991|-0.36000001430511475|0.36000001430511475|\n",
      "|Comedy|     adventure story|2.302585092994046|      7203|   0.809999942779541|  0.809999942779541|\n",
      "|Comedy|        pricetag gun|2.302585092994046|      6284| 0.36000001430511475|0.36000001430511475|\n",
      "|Comedy|     life proceeding|2.302585092994046|      5496|   -0.64000004529953|   0.64000004529953|\n",
      "|Comedy|                 rib|2.302585092994046|      6175|-0.38999998569488525| 0.4058324476163226|\n",
      "|Comedy|            roadkill|2.302585092994046|      5589|  -0.809999942779541|  0.809999942779541|\n",
      "|Comedy|    video collection|2.302585092994046|      8199| 0.36000001430511475|0.36000001430511475|\n",
      "|Comedy|             dewaere|2.302585092994046|      7951| -0.3766666812201341| 0.6096173908885314|\n",
      "|Comedy| stride happenstance|2.302585092994046|      5600|               -0.75|               0.75|\n",
      "|Comedy|           bloodshed|2.302585092994046|      6113| -0.4033333361148834|0.07505551503525187|\n",
      "|Comedy|               mutha|2.302585092994046|      6483|-0.35999998450279236|0.35999998450279236|\n",
      "|Comedy|       a dirty shame|2.302585092994046|      5615| -2.0299999713897705| 2.0299999713897705|\n",
      "|Comedy|        sketch piece|2.302585092994046|      7069|-0.35999998450279236|0.35999998450279236|\n",
      "|Comedy|            humorist|2.302585092994046|      6528| -0.4049999713897705|  0.572756452300129|\n",
      "|Comedy|           kusturika|2.302585092994046|      6634|   0.320000022649765|  0.320000022649765|\n",
      "|Comedy|               saito|2.302585092994046|      7507|-0.39000001549720764|0.39000001549720764|\n",
      "|Comedy|     computer system|2.302585092994046|      6730| -0.7200000286102295| 0.7200000286102295|\n",
      "|Comedy|           exstudent|2.302585092994046|      7431| 0.35999998450279236|0.35999998450279236|\n",
      "|Comedy|                kwon|2.302585092994046|      7568| 0.35999998450279236|0.35999998450279236|\n",
      "|Comedy|              s show|2.302585092994046|      7862|   0.799999992052714| 0.8051707317575689|\n",
      "|Comedy|world class poten...|2.302585092994046|      6159|                -0.5|                0.5|\n",
      "|Comedy|         exploration|2.302585092994046|      5700|  0.4219999730587006|0.40678001070533576|\n",
      "|Comedy|              facade|2.302585092994046|      6941| -0.3250000230036676|0.44547730367863597|\n",
      "|Comedy|           anarchism|2.302585092994046|      7239|  -0.320000022649765| 0.4525483719909953|\n",
      "|Comedy|         throughline|2.302585092994046|      6272|   0.800000011920929|  0.800000011920929|\n",
      "|Comedy|              intake|2.302585092994046|      7739| -0.4049999713897705|  0.572756452300129|\n",
      "|Comedy|         convenience|2.302585092994046|      5612|  0.4049999713897705|  0.572756452300129|\n",
      "|Comedy|      michael rigoli|2.302585092994046|      8102|  0.4899999797344208| 0.4899999797344208|\n",
      "|Comedy|            the drew|2.302585092994046|      7191|-0.36000001430511475|0.36000001430511475|\n",
      "|Comedy|          propensity|2.302585092994046|      7373|  -0.809999942779541|  0.809999942779541|\n",
      "|Comedy|      fleece blanket|2.302585092994046|      8211|    0.64000004529953|   0.64000004529953|\n",
      "|Comedy|         family epic|2.302585092994046|      7730|   0.809999942779541|  0.809999942779541|\n",
      "|Comedy|           mazurszky|2.302585092994046|      6026|  -1.149999976158142|  1.149999976158142|\n",
      "|Comedy|         show window|2.302585092994046|      5613|   0.320000022649765|  0.320000022649765|\n",
      "|Comedy|       stooges curly|2.302585092994046|      6524| 0.35999998450279236|                0.0|\n",
      "|Comedy|           film look|2.302585092994046|      6099| -0.7200000286102295| 0.7200000286102295|\n",
      "|Comedy|    genevive laroche|2.302585092994046|      6007| 0.36000001430511475|0.36000001430511475|\n",
      "|Comedy|          bob robert|2.302585092994046|      7156|   0.809999942779541|  0.809999942779541|\n",
      "|Comedy|history is made a...|2.302585092994046|      6259| -0.4899999797344208| 0.4899999797344208|\n",
      "|Comedy|            sparring|2.302585092994046|      7342|  0.4049999713897705|  0.572756452300129|\n",
      "|Comedy|                 bro|2.302585092994046|      7402|  0.4099999717436731| 0.5656853839877696|\n",
      "|Comedy|       state of mind|2.302585092994046|      6946|  -0.550000011920929|  0.550000011920929|\n",
      "+------+--------------------+-----------------+----------+--------------------+-------------------+\n",
      "only showing top 100 rows\n",
      "\n"
     ]
    }
   ],
   "source": [
    "comedy_df.show(100)"
   ]
  },
  {
   "cell_type": "code",
   "execution_count": 113,
   "metadata": {},
   "outputs": [
    {
     "data": {
      "text/plain": [
       "0.0"
      ]
     },
     "execution_count": 113,
     "metadata": {},
     "output_type": "execute_result"
    }
   ],
   "source": [
    "np.std([2])"
   ]
  },
  {
   "cell_type": "code",
   "execution_count": 20,
   "metadata": {},
   "outputs": [],
   "source": [
    "sc.stop()"
   ]
  },
  {
   "cell_type": "code",
   "execution_count": null,
   "metadata": {},
   "outputs": [],
   "source": []
  }
 ],
 "metadata": {
  "kernelspec": {
   "display_name": "Python 3",
   "language": "python",
   "name": "python3"
  },
  "language_info": {
   "codemirror_mode": {
    "name": "ipython",
    "version": 3
   },
   "file_extension": ".py",
   "mimetype": "text/x-python",
   "name": "python",
   "nbconvert_exporter": "python",
   "pygments_lexer": "ipython3",
   "version": "3.6.5"
  }
 },
 "nbformat": 4,
 "nbformat_minor": 2
}
